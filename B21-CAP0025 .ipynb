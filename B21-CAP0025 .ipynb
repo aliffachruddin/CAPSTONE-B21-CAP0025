{
 "cells": [
  {
   "cell_type": "markdown",
   "metadata": {
    "id": "sq89v0KXDvsP"
   },
   "source": [
    "# Library"
   ]
  },
  {
   "cell_type": "code",
   "execution_count": null,
   "metadata": {
    "id": "4apqhpO5TljU"
   },
   "outputs": [],
   "source": [
    "!pip install kmodes"
   ]
  },
  {
   "cell_type": "code",
   "execution_count": 1,
   "metadata": {
    "executionInfo": {
     "elapsed": 1237,
     "status": "ok",
     "timestamp": 1620650656512,
     "user": {
      "displayName": "Dimas Ananda",
      "photoUrl": "https://lh3.googleusercontent.com/a-/AOh14GjQoWSlMey42FZoIAI9fuzbLxZ4pYkpyEtx6WFB=s64",
      "userId": "05964969844651745902"
     },
     "user_tz": -420
    },
    "id": "i6c44GnmDvsd"
   },
   "outputs": [],
   "source": [
    "import numpy as np\n",
    "import pandas as pd\n",
    "import matplotlib.pyplot as plt\n",
    "import seaborn as sns\n",
    "import sklearn\n",
    "import warnings\n",
    "from sklearn.preprocessing import StandardScaler\n",
    "from sklearn.cluster import KMeans\n",
    "from sklearn.metrics import silhouette_score\n",
    "from scipy.cluster.hierarchy import linkage\n",
    "from scipy.cluster.hierarchy import dendrogram\n",
    "from scipy.cluster.hierarchy import cut_tree\n",
    "from sklearn.model_selection import cross_val_score\n",
    "from sklearn.metrics import classification_report, confusion_matrix, accuracy_score, recall_score, precision_score\n",
    "from sklearn.preprocessing import MinMaxScaler\n",
    "from kmodes.kprototypes import KPrototypes\n",
    "from sklearn.cluster import KMeans\n",
    "import pandas as pd\n",
    "from IPython.display import Image, HTML\n",
    "warnings.filterwarnings(\"ignore\")"
   ]
  },
  {
   "cell_type": "markdown",
   "metadata": {
    "id": "gt5pCT-KDvsg"
   },
   "source": [
    "# Data Loading"
   ]
  },
  {
   "cell_type": "code",
   "execution_count": 2,
   "metadata": {
    "executionInfo": {
     "elapsed": 1058,
     "status": "ok",
     "timestamp": 1620651216502,
     "user": {
      "displayName": "Dimas Ananda",
      "photoUrl": "https://lh3.googleusercontent.com/a-/AOh14GjQoWSlMey42FZoIAI9fuzbLxZ4pYkpyEtx6WFB=s64",
      "userId": "05964969844651745902"
     },
     "user_tz": -420
    },
    "id": "kkVWcz3cUVAR"
   },
   "outputs": [],
   "source": [
    "url = \"https://docs.google.com/spreadsheets/d/1-30mtmPNZCrBTkwQOqvKP9o9_LFnXGV8-BXokj6yQk0/export?format=csv&gid=0\""
   ]
  },
  {
   "cell_type": "code",
   "execution_count": 4,
   "metadata": {
    "executionInfo": {
     "elapsed": 1561,
     "status": "ok",
     "timestamp": 1620651217027,
     "user": {
      "displayName": "Dimas Ananda",
      "photoUrl": "https://lh3.googleusercontent.com/a-/AOh14GjQoWSlMey42FZoIAI9fuzbLxZ4pYkpyEtx6WFB=s64",
      "userId": "05964969844651745902"
     },
     "user_tz": -420
    },
    "id": "NV6JjvRVDvsh"
   },
   "outputs": [],
   "source": [
    "df = pd.read_csv(url)"
   ]
  },
  {
   "cell_type": "code",
   "execution_count": 5,
   "metadata": {
    "colab": {
     "base_uri": "https://localhost:8080/",
     "height": 558
    },
    "executionInfo": {
     "elapsed": 1557,
     "status": "ok",
     "timestamp": 1620651217034,
     "user": {
      "displayName": "Dimas Ananda",
      "photoUrl": "https://lh3.googleusercontent.com/a-/AOh14GjQoWSlMey42FZoIAI9fuzbLxZ4pYkpyEtx6WFB=s64",
      "userId": "05964969844651745902"
     },
     "user_tz": -420
    },
    "id": "8lyWK6VrDvsh",
    "outputId": "2fc8f5c1-2c70-4f57-a856-f70cc8d333a9"
   },
   "outputs": [
    {
     "data": {
      "text/html": [
       "<div>\n",
       "<style scoped>\n",
       "    .dataframe tbody tr th:only-of-type {\n",
       "        vertical-align: middle;\n",
       "    }\n",
       "\n",
       "    .dataframe tbody tr th {\n",
       "        vertical-align: top;\n",
       "    }\n",
       "\n",
       "    .dataframe thead th {\n",
       "        text-align: right;\n",
       "    }\n",
       "</style>\n",
       "<table border=\"1\" class=\"dataframe\">\n",
       "  <thead>\n",
       "    <tr style=\"text-align: right;\">\n",
       "      <th></th>\n",
       "      <th>id</th>\n",
       "      <th>name</th>\n",
       "      <th>ingredients</th>\n",
       "      <th>diet</th>\n",
       "      <th>prep_time</th>\n",
       "      <th>cook_time</th>\n",
       "      <th>flavor_profile</th>\n",
       "      <th>course</th>\n",
       "      <th>diabetic</th>\n",
       "      <th>halal</th>\n",
       "      <th>calories</th>\n",
       "      <th>image</th>\n",
       "    </tr>\n",
       "  </thead>\n",
       "  <tbody>\n",
       "    <tr>\n",
       "      <th>0</th>\n",
       "      <td>1</td>\n",
       "      <td>Balu shahi</td>\n",
       "      <td>Maida flour, yogurt, oil, sugar</td>\n",
       "      <td>vegetarian</td>\n",
       "      <td>45</td>\n",
       "      <td>25</td>\n",
       "      <td>sweet</td>\n",
       "      <td>dessert</td>\n",
       "      <td>1</td>\n",
       "      <td>1</td>\n",
       "      <td>93.0</td>\n",
       "      <td>data:image/jpeg;base64,/9j/4AAQSkZJRgABAQAAAQA...</td>\n",
       "    </tr>\n",
       "    <tr>\n",
       "      <th>1</th>\n",
       "      <td>2</td>\n",
       "      <td>Boondi</td>\n",
       "      <td>Gram flour, ghee, sugar</td>\n",
       "      <td>vegetarian</td>\n",
       "      <td>80</td>\n",
       "      <td>30</td>\n",
       "      <td>sweet</td>\n",
       "      <td>dessert</td>\n",
       "      <td>1</td>\n",
       "      <td>1</td>\n",
       "      <td>69.0</td>\n",
       "      <td>data:image/jpeg;base64,/9j/4AAQSkZJRgABAQAAAQA...</td>\n",
       "    </tr>\n",
       "    <tr>\n",
       "      <th>2</th>\n",
       "      <td>3</td>\n",
       "      <td>Gajar ka halwa</td>\n",
       "      <td>Carrots, milk, sugar, ghee, cashews, raisins</td>\n",
       "      <td>vegetarian</td>\n",
       "      <td>15</td>\n",
       "      <td>60</td>\n",
       "      <td>sweet</td>\n",
       "      <td>dessert</td>\n",
       "      <td>1</td>\n",
       "      <td>1</td>\n",
       "      <td>386.0</td>\n",
       "      <td>data:image/jpeg;base64,/9j/4AAQSkZJRgABAQAAAQA...</td>\n",
       "    </tr>\n",
       "    <tr>\n",
       "      <th>3</th>\n",
       "      <td>4</td>\n",
       "      <td>Ghevar</td>\n",
       "      <td>Flour, ghee, kewra, milk, clarified butter, su...</td>\n",
       "      <td>vegetarian</td>\n",
       "      <td>15</td>\n",
       "      <td>30</td>\n",
       "      <td>sweet</td>\n",
       "      <td>dessert</td>\n",
       "      <td>1</td>\n",
       "      <td>1</td>\n",
       "      <td>74.0</td>\n",
       "      <td>data:image/jpeg;base64,/9j/4AAQSkZJRgABAQAAAQA...</td>\n",
       "    </tr>\n",
       "    <tr>\n",
       "      <th>4</th>\n",
       "      <td>5</td>\n",
       "      <td>Gulab jamun</td>\n",
       "      <td>Milk powder, plain flour, baking powder, ghee,...</td>\n",
       "      <td>vegetarian</td>\n",
       "      <td>15</td>\n",
       "      <td>40</td>\n",
       "      <td>sweet</td>\n",
       "      <td>dessert</td>\n",
       "      <td>1</td>\n",
       "      <td>1</td>\n",
       "      <td>204.0</td>\n",
       "      <td>data:image/jpeg;base64,/9j/4AAQSkZJRgABAQAAAQA...</td>\n",
       "    </tr>\n",
       "    <tr>\n",
       "      <th>...</th>\n",
       "      <td>...</td>\n",
       "      <td>...</td>\n",
       "      <td>...</td>\n",
       "      <td>...</td>\n",
       "      <td>...</td>\n",
       "      <td>...</td>\n",
       "      <td>...</td>\n",
       "      <td>...</td>\n",
       "      <td>...</td>\n",
       "      <td>...</td>\n",
       "      <td>...</td>\n",
       "      <td>...</td>\n",
       "    </tr>\n",
       "    <tr>\n",
       "      <th>250</th>\n",
       "      <td>251</td>\n",
       "      <td>Til Pitha</td>\n",
       "      <td>Glutinous rice, black sesame seeds, gur</td>\n",
       "      <td>vegetarian</td>\n",
       "      <td>5</td>\n",
       "      <td>30</td>\n",
       "      <td>sweet</td>\n",
       "      <td>dessert</td>\n",
       "      <td>1</td>\n",
       "      <td>1</td>\n",
       "      <td>240.0</td>\n",
       "      <td>data:image/jpeg;base64,/9j/4AAQSkZJRgABAQAAAQA...</td>\n",
       "    </tr>\n",
       "    <tr>\n",
       "      <th>251</th>\n",
       "      <td>252</td>\n",
       "      <td>Bebinca</td>\n",
       "      <td>Coconut milk, egg yolks, clarified butter, all...</td>\n",
       "      <td>vegetarian</td>\n",
       "      <td>20</td>\n",
       "      <td>60</td>\n",
       "      <td>sweet</td>\n",
       "      <td>dessert</td>\n",
       "      <td>1</td>\n",
       "      <td>1</td>\n",
       "      <td>993.0</td>\n",
       "      <td>data:image/jpeg;base64,/9j/4AAQSkZJRgABAQAAAQA...</td>\n",
       "    </tr>\n",
       "    <tr>\n",
       "      <th>252</th>\n",
       "      <td>253</td>\n",
       "      <td>Shufta</td>\n",
       "      <td>Cottage cheese, dry dates, dried rose petals, ...</td>\n",
       "      <td>vegetarian</td>\n",
       "      <td>-1</td>\n",
       "      <td>-1</td>\n",
       "      <td>sweet</td>\n",
       "      <td>dessert</td>\n",
       "      <td>0</td>\n",
       "      <td>1</td>\n",
       "      <td>824.0</td>\n",
       "      <td>data:image/gif;base64,R0lGODlhAQABAIAAAP//////...</td>\n",
       "    </tr>\n",
       "    <tr>\n",
       "      <th>253</th>\n",
       "      <td>254</td>\n",
       "      <td>Mawa Bati</td>\n",
       "      <td>Milk powder, dry fruits, arrowroot powder, all...</td>\n",
       "      <td>vegetarian</td>\n",
       "      <td>20</td>\n",
       "      <td>45</td>\n",
       "      <td>sweet</td>\n",
       "      <td>dessert</td>\n",
       "      <td>0</td>\n",
       "      <td>1</td>\n",
       "      <td>242.0</td>\n",
       "      <td>data:image/jpeg;base64,/9j/4AAQSkZJRgABAQAAAQA...</td>\n",
       "    </tr>\n",
       "    <tr>\n",
       "      <th>254</th>\n",
       "      <td>255</td>\n",
       "      <td>Pinaca</td>\n",
       "      <td>Brown rice, fennel seeds, grated coconut, blac...</td>\n",
       "      <td>vegetarian</td>\n",
       "      <td>-1</td>\n",
       "      <td>-1</td>\n",
       "      <td>sweet</td>\n",
       "      <td>dessert</td>\n",
       "      <td>1</td>\n",
       "      <td>1</td>\n",
       "      <td>132.1</td>\n",
       "      <td>data:image/jpeg;base64,/9j/4AAQSkZJRgABAQAAAQA...</td>\n",
       "    </tr>\n",
       "  </tbody>\n",
       "</table>\n",
       "<p>255 rows × 12 columns</p>\n",
       "</div>"
      ],
      "text/plain": [
       "      id            name                                        ingredients  \\\n",
       "0      1      Balu shahi                    Maida flour, yogurt, oil, sugar   \n",
       "1      2          Boondi                            Gram flour, ghee, sugar   \n",
       "2      3  Gajar ka halwa       Carrots, milk, sugar, ghee, cashews, raisins   \n",
       "3      4          Ghevar  Flour, ghee, kewra, milk, clarified butter, su...   \n",
       "4      5     Gulab jamun  Milk powder, plain flour, baking powder, ghee,...   \n",
       "..   ...             ...                                                ...   \n",
       "250  251       Til Pitha            Glutinous rice, black sesame seeds, gur   \n",
       "251  252         Bebinca  Coconut milk, egg yolks, clarified butter, all...   \n",
       "252  253          Shufta  Cottage cheese, dry dates, dried rose petals, ...   \n",
       "253  254       Mawa Bati  Milk powder, dry fruits, arrowroot powder, all...   \n",
       "254  255          Pinaca  Brown rice, fennel seeds, grated coconut, blac...   \n",
       "\n",
       "           diet  prep_time  cook_time flavor_profile   course  diabetic  \\\n",
       "0    vegetarian         45         25          sweet  dessert         1   \n",
       "1    vegetarian         80         30          sweet  dessert         1   \n",
       "2    vegetarian         15         60          sweet  dessert         1   \n",
       "3    vegetarian         15         30          sweet  dessert         1   \n",
       "4    vegetarian         15         40          sweet  dessert         1   \n",
       "..          ...        ...        ...            ...      ...       ...   \n",
       "250  vegetarian          5         30          sweet  dessert         1   \n",
       "251  vegetarian         20         60          sweet  dessert         1   \n",
       "252  vegetarian         -1         -1          sweet  dessert         0   \n",
       "253  vegetarian         20         45          sweet  dessert         0   \n",
       "254  vegetarian         -1         -1          sweet  dessert         1   \n",
       "\n",
       "     halal  calories                                              image  \n",
       "0        1      93.0  data:image/jpeg;base64,/9j/4AAQSkZJRgABAQAAAQA...  \n",
       "1        1      69.0  data:image/jpeg;base64,/9j/4AAQSkZJRgABAQAAAQA...  \n",
       "2        1     386.0  data:image/jpeg;base64,/9j/4AAQSkZJRgABAQAAAQA...  \n",
       "3        1      74.0  data:image/jpeg;base64,/9j/4AAQSkZJRgABAQAAAQA...  \n",
       "4        1     204.0  data:image/jpeg;base64,/9j/4AAQSkZJRgABAQAAAQA...  \n",
       "..     ...       ...                                                ...  \n",
       "250      1     240.0  data:image/jpeg;base64,/9j/4AAQSkZJRgABAQAAAQA...  \n",
       "251      1     993.0  data:image/jpeg;base64,/9j/4AAQSkZJRgABAQAAAQA...  \n",
       "252      1     824.0  data:image/gif;base64,R0lGODlhAQABAIAAAP//////...  \n",
       "253      1     242.0  data:image/jpeg;base64,/9j/4AAQSkZJRgABAQAAAQA...  \n",
       "254      1     132.1  data:image/jpeg;base64,/9j/4AAQSkZJRgABAQAAAQA...  \n",
       "\n",
       "[255 rows x 12 columns]"
      ]
     },
     "execution_count": 5,
     "metadata": {},
     "output_type": "execute_result"
    }
   ],
   "source": [
    "df"
   ]
  },
  {
   "cell_type": "markdown",
   "metadata": {
    "id": "xjvvbrXCDvsk"
   },
   "source": [
    "# EDA"
   ]
  },
  {
   "cell_type": "code",
   "execution_count": 6,
   "metadata": {
    "colab": {
     "base_uri": "https://localhost:8080/",
     "height": 278
    },
    "executionInfo": {
     "elapsed": 1927,
     "status": "ok",
     "timestamp": 1620651221999,
     "user": {
      "displayName": "Dimas Ananda",
      "photoUrl": "https://lh3.googleusercontent.com/a-/AOh14GjQoWSlMey42FZoIAI9fuzbLxZ4pYkpyEtx6WFB=s64",
      "userId": "05964969844651745902"
     },
     "user_tz": -420
    },
    "id": "XWkAw3hKDvsk",
    "outputId": "e2768aca-68e0-4469-849a-11f8dc8a6d15"
   },
   "outputs": [
    {
     "data": {
      "image/png": "[encoded data removed]",
      "text/plain": [
       "<Figure size 432x288 with 1 Axes>"
      ]
     },
     "metadata": {
      "needs_background": "light"
     },
     "output_type": "display_data"
    }
   ],
   "source": [
    "sns.countplot(df[\"diet\"],label='count') #.set_xticklabels(['2011','2012','2013','2014','2015','2016','2017','2018'])\n",
    "plt.ylabel('Frequency', fontsize=12)\n",
    "plt.xlabel('Diet', fontsize=9)\n",
    "plt.show()"
   ]
  },
  {
   "cell_type": "code",
   "execution_count": 7,
   "metadata": {
    "colab": {
     "base_uri": "https://localhost:8080/",
     "height": 278
    },
    "executionInfo": {
     "elapsed": 2623,
     "status": "ok",
     "timestamp": 1620651222714,
     "user": {
      "displayName": "Dimas Ananda",
      "photoUrl": "https://lh3.googleusercontent.com/a-/AOh14GjQoWSlMey42FZoIAI9fuzbLxZ4pYkpyEtx6WFB=s64",
      "userId": "05964969844651745902"
     },
     "user_tz": -420
    },
    "id": "2ZCls-SmDvsm",
    "outputId": "a5516529-6a8a-44c2-c052-e2c6a3f695b5"
   },
   "outputs": [
    {
     "data": {
      "image/png": "[encoded data removed]",
      "text/plain": [
       "<Figure size 432x288 with 1 Axes>"
      ]
     },
     "metadata": {
      "needs_background": "light"
     },
     "output_type": "display_data"
    }
   ],
   "source": [
    "sns.countplot(df[\"cook_time\"],label='count') #.set_xticklabels(['2011','2012','2013','2014','2015','2016','2017','2018'])\n",
    "plt.ylabel('Frequency', fontsize=12)\n",
    "plt.xlabel('Flavor', fontsize=9)\n",
    "plt.show()"
   ]
  },
  {
   "cell_type": "code",
   "execution_count": 8,
   "metadata": {
    "colab": {
     "base_uri": "https://localhost:8080/",
     "height": 278
    },
    "executionInfo": {
     "elapsed": 2610,
     "status": "ok",
     "timestamp": 1620651222718,
     "user": {
      "displayName": "Dimas Ananda",
      "photoUrl": "https://lh3.googleusercontent.com/a-/AOh14GjQoWSlMey42FZoIAI9fuzbLxZ4pYkpyEtx6WFB=s64",
      "userId": "05964969844651745902"
     },
     "user_tz": -420
    },
    "id": "JzEFf1nyDvsm",
    "outputId": "f19cf48e-7172-44a2-d8b6-8a4a9ca75214"
   },
   "outputs": [
    {
     "data": {
      "image/png": "[encoded data removed]",
      "text/plain": [
       "<Figure size 432x288 with 1 Axes>"
      ]
     },
     "metadata": {
      "needs_background": "light"
     },
     "output_type": "display_data"
    }
   ],
   "source": [
    "sns.countplot(df[\"flavor_profile\"],label='count') #.set_xticklabels(['2011','2012','2013','2014','2015','2016','2017','2018'])\n",
    "plt.ylabel('Frequency', fontsize=12)\n",
    "plt.xlabel('Flavor', fontsize=9)\n",
    "plt.show()"
   ]
  },
  {
   "cell_type": "code",
   "execution_count": 9,
   "metadata": {
    "colab": {
     "base_uri": "https://localhost:8080/",
     "height": 264
    },
    "executionInfo": {
     "elapsed": 3366,
     "status": "ok",
     "timestamp": 1620651223489,
     "user": {
      "displayName": "Dimas Ananda",
      "photoUrl": "https://lh3.googleusercontent.com/a-/AOh14GjQoWSlMey42FZoIAI9fuzbLxZ4pYkpyEtx6WFB=s64",
      "userId": "05964969844651745902"
     },
     "user_tz": -420
    },
    "id": "cRpPkB5-Dvsn",
    "outputId": "828f049a-64ce-4efe-cbac-9c80092b50dc"
   },
   "outputs": [
    {
     "data": {
      "image/png": "[encoded data removed]",
      "text/plain": [
       "<Figure size 432x288 with 1 Axes>"
      ]
     },
     "metadata": {
      "needs_background": "light"
     },
     "output_type": "display_data"
    }
   ],
   "source": [
    "sns.countplot(df[\"course\"],label='count') #.set_xticklabels(['2011','2012','2013','2014','2015','2016','2017','2018'])\n",
    "plt.ylabel('Frequency', fontsize=12)\n",
    "plt.xlabel(\"\")\n",
    "plt.show()"
   ]
  },
  {
   "cell_type": "code",
   "execution_count": 10,
   "metadata": {
    "colab": {
     "base_uri": "https://localhost:8080/",
     "height": 278
    },
    "executionInfo": {
     "elapsed": 3358,
     "status": "ok",
     "timestamp": 1620651223499,
     "user": {
      "displayName": "Dimas Ananda",
      "photoUrl": "https://lh3.googleusercontent.com/a-/AOh14GjQoWSlMey42FZoIAI9fuzbLxZ4pYkpyEtx6WFB=s64",
      "userId": "05964969844651745902"
     },
     "user_tz": -420
    },
    "id": "BFCZaFYZDvso",
    "outputId": "77a6668e-6f32-4700-b674-38acb2a5798c"
   },
   "outputs": [
    {
     "data": {
      "image/png": "[encoded data removed]",
      "text/plain": [
       "<Figure size 432x288 with 1 Axes>"
      ]
     },
     "metadata": {
      "needs_background": "light"
     },
     "output_type": "display_data"
    }
   ],
   "source": [
    "sns.countplot(df[\"diabetic\"],label='count').set_xticklabels(['Yes','No'])\n",
    "plt.ylabel('Frequency', fontsize=12)\n",
    "plt.xlabel('Diabetic Friendly', fontsize=9)\n",
    "plt.show()"
   ]
  },
  {
   "cell_type": "code",
   "execution_count": 11,
   "metadata": {
    "colab": {
     "base_uri": "https://localhost:8080/",
     "height": 278
    },
    "executionInfo": {
     "elapsed": 3351,
     "status": "ok",
     "timestamp": 1620651223504,
     "user": {
      "displayName": "Dimas Ananda",
      "photoUrl": "https://lh3.googleusercontent.com/a-/AOh14GjQoWSlMey42FZoIAI9fuzbLxZ4pYkpyEtx6WFB=s64",
      "userId": "05964969844651745902"
     },
     "user_tz": -420
    },
    "id": "JKwo1p8RDvsp",
    "outputId": "e6347464-159d-463c-d28d-5cb1ba0064f3"
   },
   "outputs": [
    {
     "data": {
      "image/png": "[encoded data removed]",
      "text/plain": [
       "<Figure size 432x288 with 1 Axes>"
      ]
     },
     "metadata": {
      "needs_background": "light"
     },
     "output_type": "display_data"
    }
   ],
   "source": [
    "sns.histplot(df[\"calories\"],label='count')\n",
    "plt.ylabel('Frequency', fontsize=12)\n",
    "plt.xlabel('Calories', fontsize=9)\n",
    "plt.show()"
   ]
  },
  {
   "cell_type": "markdown",
   "metadata": {
    "id": "vqQVlP6GDvsq"
   },
   "source": [
    "# Preprocessing"
   ]
  },
  {
   "cell_type": "code",
   "execution_count": 12,
   "metadata": {
    "executionInfo": {
     "elapsed": 797,
     "status": "ok",
     "timestamp": 1620652092387,
     "user": {
      "displayName": "Dimas Ananda",
      "photoUrl": "https://lh3.googleusercontent.com/a-/AOh14GjQoWSlMey42FZoIAI9fuzbLxZ4pYkpyEtx6WFB=s64",
      "userId": "05964969844651745902"
     },
     "user_tz": -420
    },
    "id": "dW2UAbtODvsq"
   },
   "outputs": [],
   "source": [
    "df[\"flavor_profile\"]=df[\"flavor_profile\"].replace(\"-1\",\"spicy\")\n",
    "df[\"cook_time\"]=df[\"cook_time\"].replace(-1,df[\"cook_time\"].mean())"
   ]
  },
  {
   "cell_type": "code",
   "execution_count": 13,
   "metadata": {
    "colab": {
     "base_uri": "https://localhost:8080/",
     "height": 937
    },
    "executionInfo": {
     "elapsed": 1578,
     "status": "ok",
     "timestamp": 1620652095862,
     "user": {
      "displayName": "Dimas Ananda",
      "photoUrl": "https://lh3.googleusercontent.com/a-/AOh14GjQoWSlMey42FZoIAI9fuzbLxZ4pYkpyEtx6WFB=s64",
      "userId": "05964969844651745902"
     },
     "user_tz": -420
    },
    "id": "hLkItqbvDvsr",
    "outputId": "31618697-dae8-4a21-cb7d-f30ff695ccd9"
   },
   "outputs": [
    {
     "data": {
      "text/html": [
       "<div>\n",
       "<style scoped>\n",
       "    .dataframe tbody tr th:only-of-type {\n",
       "        vertical-align: middle;\n",
       "    }\n",
       "\n",
       "    .dataframe tbody tr th {\n",
       "        vertical-align: top;\n",
       "    }\n",
       "\n",
       "    .dataframe thead th {\n",
       "        text-align: right;\n",
       "    }\n",
       "</style>\n",
       "<table border=\"1\" class=\"dataframe\">\n",
       "  <thead>\n",
       "    <tr style=\"text-align: right;\">\n",
       "      <th></th>\n",
       "      <th>id</th>\n",
       "      <th>name</th>\n",
       "      <th>ingredients</th>\n",
       "      <th>diet</th>\n",
       "      <th>prep_time</th>\n",
       "      <th>cook_time</th>\n",
       "      <th>flavor_profile</th>\n",
       "      <th>course</th>\n",
       "      <th>diabetic</th>\n",
       "      <th>halal</th>\n",
       "      <th>calories</th>\n",
       "      <th>image</th>\n",
       "      <th>diet_label</th>\n",
       "      <th>flavor_profile_label</th>\n",
       "      <th>course_label</th>\n",
       "    </tr>\n",
       "  </thead>\n",
       "  <tbody>\n",
       "    <tr>\n",
       "      <th>0</th>\n",
       "      <td>1</td>\n",
       "      <td>Balu shahi</td>\n",
       "      <td>Maida flour, yogurt, oil, sugar</td>\n",
       "      <td>vegetarian</td>\n",
       "      <td>45</td>\n",
       "      <td>25.000000</td>\n",
       "      <td>sweet</td>\n",
       "      <td>dessert</td>\n",
       "      <td>1</td>\n",
       "      <td>1</td>\n",
       "      <td>93.0</td>\n",
       "      <td>data:image/jpeg;base64,/9j/4AAQSkZJRgABAQAAAQA...</td>\n",
       "      <td>1</td>\n",
       "      <td>3</td>\n",
       "      <td>0</td>\n",
       "    </tr>\n",
       "    <tr>\n",
       "      <th>1</th>\n",
       "      <td>2</td>\n",
       "      <td>Boondi</td>\n",
       "      <td>Gram flour, ghee, sugar</td>\n",
       "      <td>vegetarian</td>\n",
       "      <td>80</td>\n",
       "      <td>30.000000</td>\n",
       "      <td>sweet</td>\n",
       "      <td>dessert</td>\n",
       "      <td>1</td>\n",
       "      <td>1</td>\n",
       "      <td>69.0</td>\n",
       "      <td>data:image/jpeg;base64,/9j/4AAQSkZJRgABAQAAAQA...</td>\n",
       "      <td>1</td>\n",
       "      <td>3</td>\n",
       "      <td>0</td>\n",
       "    </tr>\n",
       "    <tr>\n",
       "      <th>2</th>\n",
       "      <td>3</td>\n",
       "      <td>Gajar ka halwa</td>\n",
       "      <td>Carrots, milk, sugar, ghee, cashews, raisins</td>\n",
       "      <td>vegetarian</td>\n",
       "      <td>15</td>\n",
       "      <td>60.000000</td>\n",
       "      <td>sweet</td>\n",
       "      <td>dessert</td>\n",
       "      <td>1</td>\n",
       "      <td>1</td>\n",
       "      <td>386.0</td>\n",
       "      <td>data:image/jpeg;base64,/9j/4AAQSkZJRgABAQAAAQA...</td>\n",
       "      <td>1</td>\n",
       "      <td>3</td>\n",
       "      <td>0</td>\n",
       "    </tr>\n",
       "    <tr>\n",
       "      <th>3</th>\n",
       "      <td>4</td>\n",
       "      <td>Ghevar</td>\n",
       "      <td>Flour, ghee, kewra, milk, clarified butter, su...</td>\n",
       "      <td>vegetarian</td>\n",
       "      <td>15</td>\n",
       "      <td>30.000000</td>\n",
       "      <td>sweet</td>\n",
       "      <td>dessert</td>\n",
       "      <td>1</td>\n",
       "      <td>1</td>\n",
       "      <td>74.0</td>\n",
       "      <td>data:image/jpeg;base64,/9j/4AAQSkZJRgABAQAAAQA...</td>\n",
       "      <td>1</td>\n",
       "      <td>3</td>\n",
       "      <td>0</td>\n",
       "    </tr>\n",
       "    <tr>\n",
       "      <th>4</th>\n",
       "      <td>5</td>\n",
       "      <td>Gulab jamun</td>\n",
       "      <td>Milk powder, plain flour, baking powder, ghee,...</td>\n",
       "      <td>vegetarian</td>\n",
       "      <td>15</td>\n",
       "      <td>40.000000</td>\n",
       "      <td>sweet</td>\n",
       "      <td>dessert</td>\n",
       "      <td>1</td>\n",
       "      <td>1</td>\n",
       "      <td>204.0</td>\n",
       "      <td>data:image/jpeg;base64,/9j/4AAQSkZJRgABAQAAAQA...</td>\n",
       "      <td>1</td>\n",
       "      <td>3</td>\n",
       "      <td>0</td>\n",
       "    </tr>\n",
       "    <tr>\n",
       "      <th>...</th>\n",
       "      <td>...</td>\n",
       "      <td>...</td>\n",
       "      <td>...</td>\n",
       "      <td>...</td>\n",
       "      <td>...</td>\n",
       "      <td>...</td>\n",
       "      <td>...</td>\n",
       "      <td>...</td>\n",
       "      <td>...</td>\n",
       "      <td>...</td>\n",
       "      <td>...</td>\n",
       "      <td>...</td>\n",
       "      <td>...</td>\n",
       "      <td>...</td>\n",
       "      <td>...</td>\n",
       "    </tr>\n",
       "    <tr>\n",
       "      <th>250</th>\n",
       "      <td>251</td>\n",
       "      <td>Til Pitha</td>\n",
       "      <td>Glutinous rice, black sesame seeds, gur</td>\n",
       "      <td>vegetarian</td>\n",
       "      <td>5</td>\n",
       "      <td>30.000000</td>\n",
       "      <td>sweet</td>\n",
       "      <td>dessert</td>\n",
       "      <td>1</td>\n",
       "      <td>1</td>\n",
       "      <td>240.0</td>\n",
       "      <td>data:image/jpeg;base64,/9j/4AAQSkZJRgABAQAAAQA...</td>\n",
       "      <td>1</td>\n",
       "      <td>3</td>\n",
       "      <td>0</td>\n",
       "    </tr>\n",
       "    <tr>\n",
       "      <th>251</th>\n",
       "      <td>252</td>\n",
       "      <td>Bebinca</td>\n",
       "      <td>Coconut milk, egg yolks, clarified butter, all...</td>\n",
       "      <td>vegetarian</td>\n",
       "      <td>20</td>\n",
       "      <td>60.000000</td>\n",
       "      <td>sweet</td>\n",
       "      <td>dessert</td>\n",
       "      <td>1</td>\n",
       "      <td>1</td>\n",
       "      <td>993.0</td>\n",
       "      <td>data:image/jpeg;base64,/9j/4AAQSkZJRgABAQAAAQA...</td>\n",
       "      <td>1</td>\n",
       "      <td>3</td>\n",
       "      <td>0</td>\n",
       "    </tr>\n",
       "    <tr>\n",
       "      <th>252</th>\n",
       "      <td>253</td>\n",
       "      <td>Shufta</td>\n",
       "      <td>Cottage cheese, dry dates, dried rose petals, ...</td>\n",
       "      <td>vegetarian</td>\n",
       "      <td>-1</td>\n",
       "      <td>31.803922</td>\n",
       "      <td>sweet</td>\n",
       "      <td>dessert</td>\n",
       "      <td>0</td>\n",
       "      <td>1</td>\n",
       "      <td>824.0</td>\n",
       "      <td>data:image/gif;base64,R0lGODlhAQABAIAAAP//////...</td>\n",
       "      <td>1</td>\n",
       "      <td>3</td>\n",
       "      <td>0</td>\n",
       "    </tr>\n",
       "    <tr>\n",
       "      <th>253</th>\n",
       "      <td>254</td>\n",
       "      <td>Mawa Bati</td>\n",
       "      <td>Milk powder, dry fruits, arrowroot powder, all...</td>\n",
       "      <td>vegetarian</td>\n",
       "      <td>20</td>\n",
       "      <td>45.000000</td>\n",
       "      <td>sweet</td>\n",
       "      <td>dessert</td>\n",
       "      <td>0</td>\n",
       "      <td>1</td>\n",
       "      <td>242.0</td>\n",
       "      <td>data:image/jpeg;base64,/9j/4AAQSkZJRgABAQAAAQA...</td>\n",
       "      <td>1</td>\n",
       "      <td>3</td>\n",
       "      <td>0</td>\n",
       "    </tr>\n",
       "    <tr>\n",
       "      <th>254</th>\n",
       "      <td>255</td>\n",
       "      <td>Pinaca</td>\n",
       "      <td>Brown rice, fennel seeds, grated coconut, blac...</td>\n",
       "      <td>vegetarian</td>\n",
       "      <td>-1</td>\n",
       "      <td>31.803922</td>\n",
       "      <td>sweet</td>\n",
       "      <td>dessert</td>\n",
       "      <td>1</td>\n",
       "      <td>1</td>\n",
       "      <td>132.1</td>\n",
       "      <td>data:image/jpeg;base64,/9j/4AAQSkZJRgABAQAAAQA...</td>\n",
       "      <td>1</td>\n",
       "      <td>3</td>\n",
       "      <td>0</td>\n",
       "    </tr>\n",
       "  </tbody>\n",
       "</table>\n",
       "<p>255 rows × 15 columns</p>\n",
       "</div>"
      ],
      "text/plain": [
       "      id            name                                        ingredients  \\\n",
       "0      1      Balu shahi                    Maida flour, yogurt, oil, sugar   \n",
       "1      2          Boondi                            Gram flour, ghee, sugar   \n",
       "2      3  Gajar ka halwa       Carrots, milk, sugar, ghee, cashews, raisins   \n",
       "3      4          Ghevar  Flour, ghee, kewra, milk, clarified butter, su...   \n",
       "4      5     Gulab jamun  Milk powder, plain flour, baking powder, ghee,...   \n",
       "..   ...             ...                                                ...   \n",
       "250  251       Til Pitha            Glutinous rice, black sesame seeds, gur   \n",
       "251  252         Bebinca  Coconut milk, egg yolks, clarified butter, all...   \n",
       "252  253          Shufta  Cottage cheese, dry dates, dried rose petals, ...   \n",
       "253  254       Mawa Bati  Milk powder, dry fruits, arrowroot powder, all...   \n",
       "254  255          Pinaca  Brown rice, fennel seeds, grated coconut, blac...   \n",
       "\n",
       "           diet  prep_time  cook_time flavor_profile   course  diabetic  \\\n",
       "0    vegetarian         45  25.000000          sweet  dessert         1   \n",
       "1    vegetarian         80  30.000000          sweet  dessert         1   \n",
       "2    vegetarian         15  60.000000          sweet  dessert         1   \n",
       "3    vegetarian         15  30.000000          sweet  dessert         1   \n",
       "4    vegetarian         15  40.000000          sweet  dessert         1   \n",
       "..          ...        ...        ...            ...      ...       ...   \n",
       "250  vegetarian          5  30.000000          sweet  dessert         1   \n",
       "251  vegetarian         20  60.000000          sweet  dessert         1   \n",
       "252  vegetarian         -1  31.803922          sweet  dessert         0   \n",
       "253  vegetarian         20  45.000000          sweet  dessert         0   \n",
       "254  vegetarian         -1  31.803922          sweet  dessert         1   \n",
       "\n",
       "     halal  calories                                              image  \\\n",
       "0        1      93.0  data:image/jpeg;base64,/9j/4AAQSkZJRgABAQAAAQA...   \n",
       "1        1      69.0  data:image/jpeg;base64,/9j/4AAQSkZJRgABAQAAAQA...   \n",
       "2        1     386.0  data:image/jpeg;base64,/9j/4AAQSkZJRgABAQAAAQA...   \n",
       "3        1      74.0  data:image/jpeg;base64,/9j/4AAQSkZJRgABAQAAAQA...   \n",
       "4        1     204.0  data:image/jpeg;base64,/9j/4AAQSkZJRgABAQAAAQA...   \n",
       "..     ...       ...                                                ...   \n",
       "250      1     240.0  data:image/jpeg;base64,/9j/4AAQSkZJRgABAQAAAQA...   \n",
       "251      1     993.0  data:image/jpeg;base64,/9j/4AAQSkZJRgABAQAAAQA...   \n",
       "252      1     824.0  data:image/gif;base64,R0lGODlhAQABAIAAAP//////...   \n",
       "253      1     242.0  data:image/jpeg;base64,/9j/4AAQSkZJRgABAQAAAQA...   \n",
       "254      1     132.1  data:image/jpeg;base64,/9j/4AAQSkZJRgABAQAAAQA...   \n",
       "\n",
       "     diet_label  flavor_profile_label  course_label  \n",
       "0             1                     3             0  \n",
       "1             1                     3             0  \n",
       "2             1                     3             0  \n",
       "3             1                     3             0  \n",
       "4             1                     3             0  \n",
       "..          ...                   ...           ...  \n",
       "250           1                     3             0  \n",
       "251           1                     3             0  \n",
       "252           1                     3             0  \n",
       "253           1                     3             0  \n",
       "254           1                     3             0  \n",
       "\n",
       "[255 rows x 15 columns]"
      ]
     },
     "execution_count": 13,
     "metadata": {},
     "output_type": "execute_result"
    }
   ],
   "source": [
    "from sklearn.preprocessing import LabelEncoder\n",
    "labelencoder = LabelEncoder()\n",
    "df['diet_label'] = labelencoder.fit_transform(df['diet'])\n",
    "df['flavor_profile_label'] = labelencoder.fit_transform(df['flavor_profile'])\n",
    "df['course_label'] = labelencoder.fit_transform(df['course'])\n",
    "df\n",
    "#df[\"course\"].value_counts()"
   ]
  },
  {
   "cell_type": "code",
   "execution_count": 14,
   "metadata": {
    "executionInfo": {
     "elapsed": 1495,
     "status": "ok",
     "timestamp": 1620652110351,
     "user": {
      "displayName": "Dimas Ananda",
      "photoUrl": "https://lh3.googleusercontent.com/a-/AOh14GjQoWSlMey42FZoIAI9fuzbLxZ4pYkpyEtx6WFB=s64",
      "userId": "05964969844651745902"
     },
     "user_tz": -420
    },
    "id": "LQQsz6pmDvsr"
   },
   "outputs": [],
   "source": [
    "data = df[['name','ingredients', 'cook_time','calories','diabetic','diet_label','flavor_profile_label','course_label']]"
   ]
  },
  {
   "cell_type": "code",
   "execution_count": 15,
   "metadata": {
    "executionInfo": {
     "elapsed": 949,
     "status": "ok",
     "timestamp": 1620652119457,
     "user": {
      "displayName": "Dimas Ananda",
      "photoUrl": "https://lh3.googleusercontent.com/a-/AOh14GjQoWSlMey42FZoIAI9fuzbLxZ4pYkpyEtx6WFB=s64",
      "userId": "05964969844651745902"
     },
     "user_tz": -420
    },
    "id": "Q-IAQTQGDvss"
   },
   "outputs": [],
   "source": [
    "from sklearn.preprocessing import MinMaxScaler\n",
    "columns_to_normalize = ['cook_time','calories']\n",
    "scaler = MinMaxScaler().fit(data[columns_to_normalize])\n",
    "data[columns_to_normalize] = pd.DataFrame(scaler.transform(data[columns_to_normalize]))"
   ]
  },
  {
   "cell_type": "code",
   "execution_count": 16,
   "metadata": {
    "colab": {
     "base_uri": "https://localhost:8080/",
     "height": 405
    },
    "executionInfo": {
     "elapsed": 1177,
     "status": "ok",
     "timestamp": 1620652122615,
     "user": {
      "displayName": "Dimas Ananda",
      "photoUrl": "https://lh3.googleusercontent.com/a-/AOh14GjQoWSlMey42FZoIAI9fuzbLxZ4pYkpyEtx6WFB=s64",
      "userId": "05964969844651745902"
     },
     "user_tz": -420
    },
    "id": "81omah9-Dvss",
    "outputId": "fe3d514e-4ccc-41bf-d7c3-4c9c611531b7"
   },
   "outputs": [
    {
     "data": {
      "text/html": [
       "<div>\n",
       "<style scoped>\n",
       "    .dataframe tbody tr th:only-of-type {\n",
       "        vertical-align: middle;\n",
       "    }\n",
       "\n",
       "    .dataframe tbody tr th {\n",
       "        vertical-align: top;\n",
       "    }\n",
       "\n",
       "    .dataframe thead th {\n",
       "        text-align: right;\n",
       "    }\n",
       "</style>\n",
       "<table border=\"1\" class=\"dataframe\">\n",
       "  <thead>\n",
       "    <tr style=\"text-align: right;\">\n",
       "      <th></th>\n",
       "      <th>name</th>\n",
       "      <th>ingredients</th>\n",
       "      <th>cook_time</th>\n",
       "      <th>calories</th>\n",
       "      <th>diabetic</th>\n",
       "      <th>diet_label</th>\n",
       "      <th>flavor_profile_label</th>\n",
       "      <th>course_label</th>\n",
       "    </tr>\n",
       "  </thead>\n",
       "  <tbody>\n",
       "    <tr>\n",
       "      <th>0</th>\n",
       "      <td>Balu shahi</td>\n",
       "      <td>Maida flour, yogurt, oil, sugar</td>\n",
       "      <td>0.194915</td>\n",
       "      <td>0.061633</td>\n",
       "      <td>1</td>\n",
       "      <td>1</td>\n",
       "      <td>3</td>\n",
       "      <td>0</td>\n",
       "    </tr>\n",
       "    <tr>\n",
       "      <th>1</th>\n",
       "      <td>Boondi</td>\n",
       "      <td>Gram flour, ghee, sugar</td>\n",
       "      <td>0.237288</td>\n",
       "      <td>0.043143</td>\n",
       "      <td>1</td>\n",
       "      <td>1</td>\n",
       "      <td>3</td>\n",
       "      <td>0</td>\n",
       "    </tr>\n",
       "    <tr>\n",
       "      <th>2</th>\n",
       "      <td>Gajar ka halwa</td>\n",
       "      <td>Carrots, milk, sugar, ghee, cashews, raisins</td>\n",
       "      <td>0.491525</td>\n",
       "      <td>0.287365</td>\n",
       "      <td>1</td>\n",
       "      <td>1</td>\n",
       "      <td>3</td>\n",
       "      <td>0</td>\n",
       "    </tr>\n",
       "    <tr>\n",
       "      <th>3</th>\n",
       "      <td>Ghevar</td>\n",
       "      <td>Flour, ghee, kewra, milk, clarified butter, su...</td>\n",
       "      <td>0.237288</td>\n",
       "      <td>0.046995</td>\n",
       "      <td>1</td>\n",
       "      <td>1</td>\n",
       "      <td>3</td>\n",
       "      <td>0</td>\n",
       "    </tr>\n",
       "    <tr>\n",
       "      <th>4</th>\n",
       "      <td>Gulab jamun</td>\n",
       "      <td>Milk powder, plain flour, baking powder, ghee,...</td>\n",
       "      <td>0.322034</td>\n",
       "      <td>0.147149</td>\n",
       "      <td>1</td>\n",
       "      <td>1</td>\n",
       "      <td>3</td>\n",
       "      <td>0</td>\n",
       "    </tr>\n",
       "    <tr>\n",
       "      <th>...</th>\n",
       "      <td>...</td>\n",
       "      <td>...</td>\n",
       "      <td>...</td>\n",
       "      <td>...</td>\n",
       "      <td>...</td>\n",
       "      <td>...</td>\n",
       "      <td>...</td>\n",
       "      <td>...</td>\n",
       "    </tr>\n",
       "    <tr>\n",
       "      <th>250</th>\n",
       "      <td>Til Pitha</td>\n",
       "      <td>Glutinous rice, black sesame seeds, gur</td>\n",
       "      <td>0.237288</td>\n",
       "      <td>0.174884</td>\n",
       "      <td>1</td>\n",
       "      <td>1</td>\n",
       "      <td>3</td>\n",
       "      <td>0</td>\n",
       "    </tr>\n",
       "    <tr>\n",
       "      <th>251</th>\n",
       "      <td>Bebinca</td>\n",
       "      <td>Coconut milk, egg yolks, clarified butter, all...</td>\n",
       "      <td>0.491525</td>\n",
       "      <td>0.755008</td>\n",
       "      <td>1</td>\n",
       "      <td>1</td>\n",
       "      <td>3</td>\n",
       "      <td>0</td>\n",
       "    </tr>\n",
       "    <tr>\n",
       "      <th>252</th>\n",
       "      <td>Shufta</td>\n",
       "      <td>Cottage cheese, dry dates, dried rose petals, ...</td>\n",
       "      <td>0.252576</td>\n",
       "      <td>0.624807</td>\n",
       "      <td>0</td>\n",
       "      <td>1</td>\n",
       "      <td>3</td>\n",
       "      <td>0</td>\n",
       "    </tr>\n",
       "    <tr>\n",
       "      <th>253</th>\n",
       "      <td>Mawa Bati</td>\n",
       "      <td>Milk powder, dry fruits, arrowroot powder, all...</td>\n",
       "      <td>0.364407</td>\n",
       "      <td>0.176425</td>\n",
       "      <td>0</td>\n",
       "      <td>1</td>\n",
       "      <td>3</td>\n",
       "      <td>0</td>\n",
       "    </tr>\n",
       "    <tr>\n",
       "      <th>254</th>\n",
       "      <td>Pinaca</td>\n",
       "      <td>Brown rice, fennel seeds, grated coconut, blac...</td>\n",
       "      <td>0.252576</td>\n",
       "      <td>0.091757</td>\n",
       "      <td>1</td>\n",
       "      <td>1</td>\n",
       "      <td>3</td>\n",
       "      <td>0</td>\n",
       "    </tr>\n",
       "  </tbody>\n",
       "</table>\n",
       "<p>255 rows × 8 columns</p>\n",
       "</div>"
      ],
      "text/plain": [
       "               name                                        ingredients  \\\n",
       "0        Balu shahi                    Maida flour, yogurt, oil, sugar   \n",
       "1            Boondi                            Gram flour, ghee, sugar   \n",
       "2    Gajar ka halwa       Carrots, milk, sugar, ghee, cashews, raisins   \n",
       "3            Ghevar  Flour, ghee, kewra, milk, clarified butter, su...   \n",
       "4       Gulab jamun  Milk powder, plain flour, baking powder, ghee,...   \n",
       "..              ...                                                ...   \n",
       "250       Til Pitha            Glutinous rice, black sesame seeds, gur   \n",
       "251         Bebinca  Coconut milk, egg yolks, clarified butter, all...   \n",
       "252          Shufta  Cottage cheese, dry dates, dried rose petals, ...   \n",
       "253       Mawa Bati  Milk powder, dry fruits, arrowroot powder, all...   \n",
       "254          Pinaca  Brown rice, fennel seeds, grated coconut, blac...   \n",
       "\n",
       "     cook_time  calories  diabetic  diet_label  flavor_profile_label  \\\n",
       "0     0.194915  0.061633         1           1                     3   \n",
       "1     0.237288  0.043143         1           1                     3   \n",
       "2     0.491525  0.287365         1           1                     3   \n",
       "3     0.237288  0.046995         1           1                     3   \n",
       "4     0.322034  0.147149         1           1                     3   \n",
       "..         ...       ...       ...         ...                   ...   \n",
       "250   0.237288  0.174884         1           1                     3   \n",
       "251   0.491525  0.755008         1           1                     3   \n",
       "252   0.252576  0.624807         0           1                     3   \n",
       "253   0.364407  0.176425         0           1                     3   \n",
       "254   0.252576  0.091757         1           1                     3   \n",
       "\n",
       "     course_label  \n",
       "0               0  \n",
       "1               0  \n",
       "2               0  \n",
       "3               0  \n",
       "4               0  \n",
       "..            ...  \n",
       "250             0  \n",
       "251             0  \n",
       "252             0  \n",
       "253             0  \n",
       "254             0  \n",
       "\n",
       "[255 rows x 8 columns]"
      ]
     },
     "execution_count": 16,
     "metadata": {},
     "output_type": "execute_result"
    }
   ],
   "source": [
    "data"
   ]
  },
  {
   "cell_type": "code",
   "execution_count": 17,
   "metadata": {
    "executionInfo": {
     "elapsed": 1104,
     "status": "ok",
     "timestamp": 1620652144674,
     "user": {
      "displayName": "Dimas Ananda",
      "photoUrl": "https://lh3.googleusercontent.com/a-/AOh14GjQoWSlMey42FZoIAI9fuzbLxZ4pYkpyEtx6WFB=s64",
      "userId": "05964969844651745902"
     },
     "user_tz": -420
    },
    "id": "O0dZGGdqDvst"
   },
   "outputs": [],
   "source": [
    "x_scaled = data.iloc[:, 2:].values"
   ]
  },
  {
   "cell_type": "code",
   "execution_count": 18,
   "metadata": {
    "colab": {
     "base_uri": "https://localhost:8080/"
    },
    "executionInfo": {
     "elapsed": 652,
     "status": "ok",
     "timestamp": 1620652147517,
     "user": {
      "displayName": "Dimas Ananda",
      "photoUrl": "https://lh3.googleusercontent.com/a-/AOh14GjQoWSlMey42FZoIAI9fuzbLxZ4pYkpyEtx6WFB=s64",
      "userId": "05964969844651745902"
     },
     "user_tz": -420
    },
    "id": "Ygvh3Z2gDvst",
    "outputId": "7909dfff-9ee6-45e8-b602-269ed28bf6d1"
   },
   "outputs": [
    {
     "data": {
      "text/plain": [
       "array([[0.19491525, 0.06163328, 1.        , 1.        , 3.        ,\n",
       "        0.        ],\n",
       "       [0.23728814, 0.0431433 , 1.        , 1.        , 3.        ,\n",
       "        0.        ],\n",
       "       [0.49152542, 0.28736518, 1.        , 1.        , 3.        ,\n",
       "        0.        ],\n",
       "       ...,\n",
       "       [0.25257561, 0.6248074 , 0.        , 1.        , 3.        ,\n",
       "        0.        ],\n",
       "       [0.36440678, 0.17642527, 0.        , 1.        , 3.        ,\n",
       "        0.        ],\n",
       "       [0.25257561, 0.09175655, 1.        , 1.        , 3.        ,\n",
       "        0.        ]])"
      ]
     },
     "execution_count": 18,
     "metadata": {},
     "output_type": "execute_result"
    }
   ],
   "source": [
    "x_scaled "
   ]
  },
  {
   "cell_type": "markdown",
   "metadata": {
    "id": "UZYausqqDvsu"
   },
   "source": [
    "# Clustering Model"
   ]
  },
  {
   "cell_type": "code",
   "execution_count": 19,
   "metadata": {
    "executionInfo": {
     "elapsed": 45406,
     "status": "ok",
     "timestamp": 1620652199785,
     "user": {
      "displayName": "Dimas Ananda",
      "photoUrl": "https://lh3.googleusercontent.com/a-/AOh14GjQoWSlMey42FZoIAI9fuzbLxZ4pYkpyEtx6WFB=s64",
      "userId": "05964969844651745902"
     },
     "user_tz": -420
    },
    "id": "7N8vEJXJDvsu"
   },
   "outputs": [],
   "source": [
    "cost=[]\n",
    "for i in range(2,20):\n",
    "    kproto = KPrototypes(n_clusters=i, init='Cao')\n",
    "    kproto.fit_predict(x_scaled, categorical=[2,3,4,5])\n",
    "    cost.append(kproto.cost_)"
   ]
  },
  {
   "cell_type": "code",
   "execution_count": 20,
   "metadata": {
    "colab": {
     "base_uri": "https://localhost:8080/",
     "height": 441
    },
    "executionInfo": {
     "elapsed": 45376,
     "status": "ok",
     "timestamp": 1620652199799,
     "user": {
      "displayName": "Dimas Ananda",
      "photoUrl": "https://lh3.googleusercontent.com/a-/AOh14GjQoWSlMey42FZoIAI9fuzbLxZ4pYkpyEtx6WFB=s64",
      "userId": "05964969844651745902"
     },
     "user_tz": -420
    },
    "id": "ADI_GPUpDvsv",
    "outputId": "94f68143-5850-4404-8202-31345f215809"
   },
   "outputs": [
    {
     "data": {
      "image/png": "[encoded data removed]",
      "text/plain": [
       "<Figure size 504x504 with 1 Axes>"
      ]
     },
     "metadata": {
      "needs_background": "light"
     },
     "output_type": "display_data"
    }
   ],
   "source": [
    "fig = plt.figure(figsize = (7,7))\n",
    "plt.plot(range(2,20),cost, linewidth=4, markersize=12,marker='o',color = 'green')\n",
    "plt.xticks(np.arange(20))\n",
    "plt.xlabel(\"Number of clusters\")\n",
    "plt.ylabel(\"Cost\")\n",
    "plt.show()"
   ]
  },
  {
   "cell_type": "code",
   "execution_count": 21,
   "metadata": {
    "executionInfo": {
     "elapsed": 47885,
     "status": "ok",
     "timestamp": 1620652202318,
     "user": {
      "displayName": "Dimas Ananda",
      "photoUrl": "https://lh3.googleusercontent.com/a-/AOh14GjQoWSlMey42FZoIAI9fuzbLxZ4pYkpyEtx6WFB=s64",
      "userId": "05964969844651745902"
     },
     "user_tz": -420
    },
    "id": "wAfRT5CkDvsw"
   },
   "outputs": [],
   "source": [
    "kproto = KPrototypes(n_clusters=20, init='Cao', random_state=42)\n",
    "clusters= kproto.fit_predict(x_scaled, categorical=[2,3,4,5])"
   ]
  },
  {
   "cell_type": "code",
   "execution_count": 22,
   "metadata": {
    "colab": {
     "base_uri": "https://localhost:8080/",
     "height": 280
    },
    "executionInfo": {
     "elapsed": 47947,
     "status": "ok",
     "timestamp": 1620652202406,
     "user": {
      "displayName": "Dimas Ananda",
      "photoUrl": "https://lh3.googleusercontent.com/a-/AOh14GjQoWSlMey42FZoIAI9fuzbLxZ4pYkpyEtx6WFB=s64",
      "userId": "05964969844651745902"
     },
     "user_tz": -420
    },
    "id": "g3TTc1hjDvsw",
    "outputId": "d435a374-ce7b-47ae-807d-16061fefab1d"
   },
   "outputs": [
    {
     "data": {
      "image/png": "[encoded data removed]",
      "text/plain": [
       "<Figure size 432x288 with 1 Axes>"
      ]
     },
     "metadata": {
      "needs_background": "light"
     },
     "output_type": "display_data"
    }
   ],
   "source": [
    "sns.countplot(clusters)\n",
    "plt.title('Clusters of Food')\n",
    "plt.show()"
   ]
  },
  {
   "cell_type": "code",
   "execution_count": 23,
   "metadata": {
    "id": "YM1IB-zsDvsx"
   },
   "outputs": [],
   "source": [
    "data.insert(loc=0, column='cluster', value=clusters)"
   ]
  },
  {
   "cell_type": "code",
   "execution_count": 24,
   "metadata": {
    "colab": {
     "base_uri": "https://localhost:8080/",
     "height": 405
    },
    "executionInfo": {
     "elapsed": 49251,
     "status": "ok",
     "timestamp": 1620652203766,
     "user": {
      "displayName": "Dimas Ananda",
      "photoUrl": "https://lh3.googleusercontent.com/a-/AOh14GjQoWSlMey42FZoIAI9fuzbLxZ4pYkpyEtx6WFB=s64",
      "userId": "05964969844651745902"
     },
     "user_tz": -420
    },
    "id": "u1d8XfdFDvsx",
    "outputId": "db64f016-11d6-4fe4-dcda-764185255f30"
   },
   "outputs": [
    {
     "data": {
      "text/html": [
       "<div>\n",
       "<style scoped>\n",
       "    .dataframe tbody tr th:only-of-type {\n",
       "        vertical-align: middle;\n",
       "    }\n",
       "\n",
       "    .dataframe tbody tr th {\n",
       "        vertical-align: top;\n",
       "    }\n",
       "\n",
       "    .dataframe thead th {\n",
       "        text-align: right;\n",
       "    }\n",
       "</style>\n",
       "<table border=\"1\" class=\"dataframe\">\n",
       "  <thead>\n",
       "    <tr style=\"text-align: right;\">\n",
       "      <th></th>\n",
       "      <th>cluster</th>\n",
       "      <th>name</th>\n",
       "      <th>ingredients</th>\n",
       "      <th>cook_time</th>\n",
       "      <th>calories</th>\n",
       "      <th>diabetic</th>\n",
       "      <th>diet_label</th>\n",
       "      <th>flavor_profile_label</th>\n",
       "      <th>course_label</th>\n",
       "    </tr>\n",
       "  </thead>\n",
       "  <tbody>\n",
       "    <tr>\n",
       "      <th>0</th>\n",
       "      <td>19</td>\n",
       "      <td>Balu shahi</td>\n",
       "      <td>Maida flour, yogurt, oil, sugar</td>\n",
       "      <td>0.194915</td>\n",
       "      <td>0.061633</td>\n",
       "      <td>1</td>\n",
       "      <td>1</td>\n",
       "      <td>3</td>\n",
       "      <td>0</td>\n",
       "    </tr>\n",
       "    <tr>\n",
       "      <th>1</th>\n",
       "      <td>19</td>\n",
       "      <td>Boondi</td>\n",
       "      <td>Gram flour, ghee, sugar</td>\n",
       "      <td>0.237288</td>\n",
       "      <td>0.043143</td>\n",
       "      <td>1</td>\n",
       "      <td>1</td>\n",
       "      <td>3</td>\n",
       "      <td>0</td>\n",
       "    </tr>\n",
       "    <tr>\n",
       "      <th>2</th>\n",
       "      <td>1</td>\n",
       "      <td>Gajar ka halwa</td>\n",
       "      <td>Carrots, milk, sugar, ghee, cashews, raisins</td>\n",
       "      <td>0.491525</td>\n",
       "      <td>0.287365</td>\n",
       "      <td>1</td>\n",
       "      <td>1</td>\n",
       "      <td>3</td>\n",
       "      <td>0</td>\n",
       "    </tr>\n",
       "    <tr>\n",
       "      <th>3</th>\n",
       "      <td>19</td>\n",
       "      <td>Ghevar</td>\n",
       "      <td>Flour, ghee, kewra, milk, clarified butter, su...</td>\n",
       "      <td>0.237288</td>\n",
       "      <td>0.046995</td>\n",
       "      <td>1</td>\n",
       "      <td>1</td>\n",
       "      <td>3</td>\n",
       "      <td>0</td>\n",
       "    </tr>\n",
       "    <tr>\n",
       "      <th>4</th>\n",
       "      <td>17</td>\n",
       "      <td>Gulab jamun</td>\n",
       "      <td>Milk powder, plain flour, baking powder, ghee,...</td>\n",
       "      <td>0.322034</td>\n",
       "      <td>0.147149</td>\n",
       "      <td>1</td>\n",
       "      <td>1</td>\n",
       "      <td>3</td>\n",
       "      <td>0</td>\n",
       "    </tr>\n",
       "    <tr>\n",
       "      <th>...</th>\n",
       "      <td>...</td>\n",
       "      <td>...</td>\n",
       "      <td>...</td>\n",
       "      <td>...</td>\n",
       "      <td>...</td>\n",
       "      <td>...</td>\n",
       "      <td>...</td>\n",
       "      <td>...</td>\n",
       "      <td>...</td>\n",
       "    </tr>\n",
       "    <tr>\n",
       "      <th>250</th>\n",
       "      <td>17</td>\n",
       "      <td>Til Pitha</td>\n",
       "      <td>Glutinous rice, black sesame seeds, gur</td>\n",
       "      <td>0.237288</td>\n",
       "      <td>0.174884</td>\n",
       "      <td>1</td>\n",
       "      <td>1</td>\n",
       "      <td>3</td>\n",
       "      <td>0</td>\n",
       "    </tr>\n",
       "    <tr>\n",
       "      <th>251</th>\n",
       "      <td>18</td>\n",
       "      <td>Bebinca</td>\n",
       "      <td>Coconut milk, egg yolks, clarified butter, all...</td>\n",
       "      <td>0.491525</td>\n",
       "      <td>0.755008</td>\n",
       "      <td>1</td>\n",
       "      <td>1</td>\n",
       "      <td>3</td>\n",
       "      <td>0</td>\n",
       "    </tr>\n",
       "    <tr>\n",
       "      <th>252</th>\n",
       "      <td>18</td>\n",
       "      <td>Shufta</td>\n",
       "      <td>Cottage cheese, dry dates, dried rose petals, ...</td>\n",
       "      <td>0.252576</td>\n",
       "      <td>0.624807</td>\n",
       "      <td>0</td>\n",
       "      <td>1</td>\n",
       "      <td>3</td>\n",
       "      <td>0</td>\n",
       "    </tr>\n",
       "    <tr>\n",
       "      <th>253</th>\n",
       "      <td>11</td>\n",
       "      <td>Mawa Bati</td>\n",
       "      <td>Milk powder, dry fruits, arrowroot powder, all...</td>\n",
       "      <td>0.364407</td>\n",
       "      <td>0.176425</td>\n",
       "      <td>0</td>\n",
       "      <td>1</td>\n",
       "      <td>3</td>\n",
       "      <td>0</td>\n",
       "    </tr>\n",
       "    <tr>\n",
       "      <th>254</th>\n",
       "      <td>19</td>\n",
       "      <td>Pinaca</td>\n",
       "      <td>Brown rice, fennel seeds, grated coconut, blac...</td>\n",
       "      <td>0.252576</td>\n",
       "      <td>0.091757</td>\n",
       "      <td>1</td>\n",
       "      <td>1</td>\n",
       "      <td>3</td>\n",
       "      <td>0</td>\n",
       "    </tr>\n",
       "  </tbody>\n",
       "</table>\n",
       "<p>255 rows × 9 columns</p>\n",
       "</div>"
      ],
      "text/plain": [
       "     cluster            name  \\\n",
       "0         19      Balu shahi   \n",
       "1         19          Boondi   \n",
       "2          1  Gajar ka halwa   \n",
       "3         19          Ghevar   \n",
       "4         17     Gulab jamun   \n",
       "..       ...             ...   \n",
       "250       17       Til Pitha   \n",
       "251       18         Bebinca   \n",
       "252       18          Shufta   \n",
       "253       11       Mawa Bati   \n",
       "254       19          Pinaca   \n",
       "\n",
       "                                           ingredients  cook_time  calories  \\\n",
       "0                      Maida flour, yogurt, oil, sugar   0.194915  0.061633   \n",
       "1                              Gram flour, ghee, sugar   0.237288  0.043143   \n",
       "2         Carrots, milk, sugar, ghee, cashews, raisins   0.491525  0.287365   \n",
       "3    Flour, ghee, kewra, milk, clarified butter, su...   0.237288  0.046995   \n",
       "4    Milk powder, plain flour, baking powder, ghee,...   0.322034  0.147149   \n",
       "..                                                 ...        ...       ...   \n",
       "250            Glutinous rice, black sesame seeds, gur   0.237288  0.174884   \n",
       "251  Coconut milk, egg yolks, clarified butter, all...   0.491525  0.755008   \n",
       "252  Cottage cheese, dry dates, dried rose petals, ...   0.252576  0.624807   \n",
       "253  Milk powder, dry fruits, arrowroot powder, all...   0.364407  0.176425   \n",
       "254  Brown rice, fennel seeds, grated coconut, blac...   0.252576  0.091757   \n",
       "\n",
       "     diabetic  diet_label  flavor_profile_label  course_label  \n",
       "0           1           1                     3             0  \n",
       "1           1           1                     3             0  \n",
       "2           1           1                     3             0  \n",
       "3           1           1                     3             0  \n",
       "4           1           1                     3             0  \n",
       "..        ...         ...                   ...           ...  \n",
       "250         1           1                     3             0  \n",
       "251         1           1                     3             0  \n",
       "252         0           1                     3             0  \n",
       "253         0           1                     3             0  \n",
       "254         1           1                     3             0  \n",
       "\n",
       "[255 rows x 9 columns]"
      ]
     },
     "execution_count": 24,
     "metadata": {},
     "output_type": "execute_result"
    }
   ],
   "source": [
    "data"
   ]
  },
  {
   "cell_type": "code",
   "execution_count": 25,
   "metadata": {
    "executionInfo": {
     "elapsed": 49732,
     "status": "ok",
     "timestamp": 1620652204266,
     "user": {
      "displayName": "Dimas Ananda",
      "photoUrl": "https://lh3.googleusercontent.com/a-/AOh14GjQoWSlMey42FZoIAI9fuzbLxZ4pYkpyEtx6WFB=s64",
      "userId": "05964969844651745902"
     },
     "user_tz": -420
    },
    "id": "Rlmw8SrIDvsy"
   },
   "outputs": [],
   "source": [
    "df.insert(loc=0, column='cluster', value=clusters)"
   ]
  },
  {
   "cell_type": "code",
   "execution_count": 26,
   "metadata": {
    "colab": {
     "base_uri": "https://localhost:8080/",
     "height": 937
    },
    "executionInfo": {
     "elapsed": 49710,
     "status": "ok",
     "timestamp": 1620652204271,
     "user": {
      "displayName": "Dimas Ananda",
      "photoUrl": "https://lh3.googleusercontent.com/a-/AOh14GjQoWSlMey42FZoIAI9fuzbLxZ4pYkpyEtx6WFB=s64",
      "userId": "05964969844651745902"
     },
     "user_tz": -420
    },
    "id": "EshOeOl2Dvsy",
    "outputId": "8647d3b0-6601-4f0b-c2ee-288324ba2a4c"
   },
   "outputs": [
    {
     "data": {
      "text/html": [
       "<div>\n",
       "<style scoped>\n",
       "    .dataframe tbody tr th:only-of-type {\n",
       "        vertical-align: middle;\n",
       "    }\n",
       "\n",
       "    .dataframe tbody tr th {\n",
       "        vertical-align: top;\n",
       "    }\n",
       "\n",
       "    .dataframe thead th {\n",
       "        text-align: right;\n",
       "    }\n",
       "</style>\n",
       "<table border=\"1\" class=\"dataframe\">\n",
       "  <thead>\n",
       "    <tr style=\"text-align: right;\">\n",
       "      <th></th>\n",
       "      <th>cluster</th>\n",
       "      <th>id</th>\n",
       "      <th>name</th>\n",
       "      <th>ingredients</th>\n",
       "      <th>diet</th>\n",
       "      <th>prep_time</th>\n",
       "      <th>cook_time</th>\n",
       "      <th>flavor_profile</th>\n",
       "      <th>course</th>\n",
       "      <th>diabetic</th>\n",
       "      <th>halal</th>\n",
       "      <th>calories</th>\n",
       "      <th>image</th>\n",
       "      <th>diet_label</th>\n",
       "      <th>flavor_profile_label</th>\n",
       "      <th>course_label</th>\n",
       "    </tr>\n",
       "  </thead>\n",
       "  <tbody>\n",
       "    <tr>\n",
       "      <th>0</th>\n",
       "      <td>19</td>\n",
       "      <td>1</td>\n",
       "      <td>Balu shahi</td>\n",
       "      <td>Maida flour, yogurt, oil, sugar</td>\n",
       "      <td>vegetarian</td>\n",
       "      <td>45</td>\n",
       "      <td>25.000000</td>\n",
       "      <td>sweet</td>\n",
       "      <td>dessert</td>\n",
       "      <td>1</td>\n",
       "      <td>1</td>\n",
       "      <td>93.0</td>\n",
       "      <td>data:image/jpeg;base64,/9j/4AAQSkZJRgABAQAAAQA...</td>\n",
       "      <td>1</td>\n",
       "      <td>3</td>\n",
       "      <td>0</td>\n",
       "    </tr>\n",
       "    <tr>\n",
       "      <th>1</th>\n",
       "      <td>19</td>\n",
       "      <td>2</td>\n",
       "      <td>Boondi</td>\n",
       "      <td>Gram flour, ghee, sugar</td>\n",
       "      <td>vegetarian</td>\n",
       "      <td>80</td>\n",
       "      <td>30.000000</td>\n",
       "      <td>sweet</td>\n",
       "      <td>dessert</td>\n",
       "      <td>1</td>\n",
       "      <td>1</td>\n",
       "      <td>69.0</td>\n",
       "      <td>data:image/jpeg;base64,/9j/4AAQSkZJRgABAQAAAQA...</td>\n",
       "      <td>1</td>\n",
       "      <td>3</td>\n",
       "      <td>0</td>\n",
       "    </tr>\n",
       "    <tr>\n",
       "      <th>2</th>\n",
       "      <td>1</td>\n",
       "      <td>3</td>\n",
       "      <td>Gajar ka halwa</td>\n",
       "      <td>Carrots, milk, sugar, ghee, cashews, raisins</td>\n",
       "      <td>vegetarian</td>\n",
       "      <td>15</td>\n",
       "      <td>60.000000</td>\n",
       "      <td>sweet</td>\n",
       "      <td>dessert</td>\n",
       "      <td>1</td>\n",
       "      <td>1</td>\n",
       "      <td>386.0</td>\n",
       "      <td>data:image/jpeg;base64,/9j/4AAQSkZJRgABAQAAAQA...</td>\n",
       "      <td>1</td>\n",
       "      <td>3</td>\n",
       "      <td>0</td>\n",
       "    </tr>\n",
       "    <tr>\n",
       "      <th>3</th>\n",
       "      <td>19</td>\n",
       "      <td>4</td>\n",
       "      <td>Ghevar</td>\n",
       "      <td>Flour, ghee, kewra, milk, clarified butter, su...</td>\n",
       "      <td>vegetarian</td>\n",
       "      <td>15</td>\n",
       "      <td>30.000000</td>\n",
       "      <td>sweet</td>\n",
       "      <td>dessert</td>\n",
       "      <td>1</td>\n",
       "      <td>1</td>\n",
       "      <td>74.0</td>\n",
       "      <td>data:image/jpeg;base64,/9j/4AAQSkZJRgABAQAAAQA...</td>\n",
       "      <td>1</td>\n",
       "      <td>3</td>\n",
       "      <td>0</td>\n",
       "    </tr>\n",
       "    <tr>\n",
       "      <th>4</th>\n",
       "      <td>17</td>\n",
       "      <td>5</td>\n",
       "      <td>Gulab jamun</td>\n",
       "      <td>Milk powder, plain flour, baking powder, ghee,...</td>\n",
       "      <td>vegetarian</td>\n",
       "      <td>15</td>\n",
       "      <td>40.000000</td>\n",
       "      <td>sweet</td>\n",
       "      <td>dessert</td>\n",
       "      <td>1</td>\n",
       "      <td>1</td>\n",
       "      <td>204.0</td>\n",
       "      <td>data:image/jpeg;base64,/9j/4AAQSkZJRgABAQAAAQA...</td>\n",
       "      <td>1</td>\n",
       "      <td>3</td>\n",
       "      <td>0</td>\n",
       "    </tr>\n",
       "    <tr>\n",
       "      <th>...</th>\n",
       "      <td>...</td>\n",
       "      <td>...</td>\n",
       "      <td>...</td>\n",
       "      <td>...</td>\n",
       "      <td>...</td>\n",
       "      <td>...</td>\n",
       "      <td>...</td>\n",
       "      <td>...</td>\n",
       "      <td>...</td>\n",
       "      <td>...</td>\n",
       "      <td>...</td>\n",
       "      <td>...</td>\n",
       "      <td>...</td>\n",
       "      <td>...</td>\n",
       "      <td>...</td>\n",
       "      <td>...</td>\n",
       "    </tr>\n",
       "    <tr>\n",
       "      <th>250</th>\n",
       "      <td>17</td>\n",
       "      <td>251</td>\n",
       "      <td>Til Pitha</td>\n",
       "      <td>Glutinous rice, black sesame seeds, gur</td>\n",
       "      <td>vegetarian</td>\n",
       "      <td>5</td>\n",
       "      <td>30.000000</td>\n",
       "      <td>sweet</td>\n",
       "      <td>dessert</td>\n",
       "      <td>1</td>\n",
       "      <td>1</td>\n",
       "      <td>240.0</td>\n",
       "      <td>data:image/jpeg;base64,/9j/4AAQSkZJRgABAQAAAQA...</td>\n",
       "      <td>1</td>\n",
       "      <td>3</td>\n",
       "      <td>0</td>\n",
       "    </tr>\n",
       "    <tr>\n",
       "      <th>251</th>\n",
       "      <td>18</td>\n",
       "      <td>252</td>\n",
       "      <td>Bebinca</td>\n",
       "      <td>Coconut milk, egg yolks, clarified butter, all...</td>\n",
       "      <td>vegetarian</td>\n",
       "      <td>20</td>\n",
       "      <td>60.000000</td>\n",
       "      <td>sweet</td>\n",
       "      <td>dessert</td>\n",
       "      <td>1</td>\n",
       "      <td>1</td>\n",
       "      <td>993.0</td>\n",
       "      <td>data:image/jpeg;base64,/9j/4AAQSkZJRgABAQAAAQA...</td>\n",
       "      <td>1</td>\n",
       "      <td>3</td>\n",
       "      <td>0</td>\n",
       "    </tr>\n",
       "    <tr>\n",
       "      <th>252</th>\n",
       "      <td>18</td>\n",
       "      <td>253</td>\n",
       "      <td>Shufta</td>\n",
       "      <td>Cottage cheese, dry dates, dried rose petals, ...</td>\n",
       "      <td>vegetarian</td>\n",
       "      <td>-1</td>\n",
       "      <td>31.803922</td>\n",
       "      <td>sweet</td>\n",
       "      <td>dessert</td>\n",
       "      <td>0</td>\n",
       "      <td>1</td>\n",
       "      <td>824.0</td>\n",
       "      <td>data:image/gif;base64,R0lGODlhAQABAIAAAP//////...</td>\n",
       "      <td>1</td>\n",
       "      <td>3</td>\n",
       "      <td>0</td>\n",
       "    </tr>\n",
       "    <tr>\n",
       "      <th>253</th>\n",
       "      <td>11</td>\n",
       "      <td>254</td>\n",
       "      <td>Mawa Bati</td>\n",
       "      <td>Milk powder, dry fruits, arrowroot powder, all...</td>\n",
       "      <td>vegetarian</td>\n",
       "      <td>20</td>\n",
       "      <td>45.000000</td>\n",
       "      <td>sweet</td>\n",
       "      <td>dessert</td>\n",
       "      <td>0</td>\n",
       "      <td>1</td>\n",
       "      <td>242.0</td>\n",
       "      <td>data:image/jpeg;base64,/9j/4AAQSkZJRgABAQAAAQA...</td>\n",
       "      <td>1</td>\n",
       "      <td>3</td>\n",
       "      <td>0</td>\n",
       "    </tr>\n",
       "    <tr>\n",
       "      <th>254</th>\n",
       "      <td>19</td>\n",
       "      <td>255</td>\n",
       "      <td>Pinaca</td>\n",
       "      <td>Brown rice, fennel seeds, grated coconut, blac...</td>\n",
       "      <td>vegetarian</td>\n",
       "      <td>-1</td>\n",
       "      <td>31.803922</td>\n",
       "      <td>sweet</td>\n",
       "      <td>dessert</td>\n",
       "      <td>1</td>\n",
       "      <td>1</td>\n",
       "      <td>132.1</td>\n",
       "      <td>data:image/jpeg;base64,/9j/4AAQSkZJRgABAQAAAQA...</td>\n",
       "      <td>1</td>\n",
       "      <td>3</td>\n",
       "      <td>0</td>\n",
       "    </tr>\n",
       "  </tbody>\n",
       "</table>\n",
       "<p>255 rows × 16 columns</p>\n",
       "</div>"
      ],
      "text/plain": [
       "     cluster   id            name  \\\n",
       "0         19    1      Balu shahi   \n",
       "1         19    2          Boondi   \n",
       "2          1    3  Gajar ka halwa   \n",
       "3         19    4          Ghevar   \n",
       "4         17    5     Gulab jamun   \n",
       "..       ...  ...             ...   \n",
       "250       17  251       Til Pitha   \n",
       "251       18  252         Bebinca   \n",
       "252       18  253          Shufta   \n",
       "253       11  254       Mawa Bati   \n",
       "254       19  255          Pinaca   \n",
       "\n",
       "                                           ingredients        diet  prep_time  \\\n",
       "0                      Maida flour, yogurt, oil, sugar  vegetarian         45   \n",
       "1                              Gram flour, ghee, sugar  vegetarian         80   \n",
       "2         Carrots, milk, sugar, ghee, cashews, raisins  vegetarian         15   \n",
       "3    Flour, ghee, kewra, milk, clarified butter, su...  vegetarian         15   \n",
       "4    Milk powder, plain flour, baking powder, ghee,...  vegetarian         15   \n",
       "..                                                 ...         ...        ...   \n",
       "250            Glutinous rice, black sesame seeds, gur  vegetarian          5   \n",
       "251  Coconut milk, egg yolks, clarified butter, all...  vegetarian         20   \n",
       "252  Cottage cheese, dry dates, dried rose petals, ...  vegetarian         -1   \n",
       "253  Milk powder, dry fruits, arrowroot powder, all...  vegetarian         20   \n",
       "254  Brown rice, fennel seeds, grated coconut, blac...  vegetarian         -1   \n",
       "\n",
       "     cook_time flavor_profile   course  diabetic  halal  calories  \\\n",
       "0    25.000000          sweet  dessert         1      1      93.0   \n",
       "1    30.000000          sweet  dessert         1      1      69.0   \n",
       "2    60.000000          sweet  dessert         1      1     386.0   \n",
       "3    30.000000          sweet  dessert         1      1      74.0   \n",
       "4    40.000000          sweet  dessert         1      1     204.0   \n",
       "..         ...            ...      ...       ...    ...       ...   \n",
       "250  30.000000          sweet  dessert         1      1     240.0   \n",
       "251  60.000000          sweet  dessert         1      1     993.0   \n",
       "252  31.803922          sweet  dessert         0      1     824.0   \n",
       "253  45.000000          sweet  dessert         0      1     242.0   \n",
       "254  31.803922          sweet  dessert         1      1     132.1   \n",
       "\n",
       "                                                 image  diet_label  \\\n",
       "0    data:image/jpeg;base64,/9j/4AAQSkZJRgABAQAAAQA...           1   \n",
       "1    data:image/jpeg;base64,/9j/4AAQSkZJRgABAQAAAQA...           1   \n",
       "2    data:image/jpeg;base64,/9j/4AAQSkZJRgABAQAAAQA...           1   \n",
       "3    data:image/jpeg;base64,/9j/4AAQSkZJRgABAQAAAQA...           1   \n",
       "4    data:image/jpeg;base64,/9j/4AAQSkZJRgABAQAAAQA...           1   \n",
       "..                                                 ...         ...   \n",
       "250  data:image/jpeg;base64,/9j/4AAQSkZJRgABAQAAAQA...           1   \n",
       "251  data:image/jpeg;base64,/9j/4AAQSkZJRgABAQAAAQA...           1   \n",
       "252  data:image/gif;base64,R0lGODlhAQABAIAAAP//////...           1   \n",
       "253  data:image/jpeg;base64,/9j/4AAQSkZJRgABAQAAAQA...           1   \n",
       "254  data:image/jpeg;base64,/9j/4AAQSkZJRgABAQAAAQA...           1   \n",
       "\n",
       "     flavor_profile_label  course_label  \n",
       "0                       3             0  \n",
       "1                       3             0  \n",
       "2                       3             0  \n",
       "3                       3             0  \n",
       "4                       3             0  \n",
       "..                    ...           ...  \n",
       "250                     3             0  \n",
       "251                     3             0  \n",
       "252                     3             0  \n",
       "253                     3             0  \n",
       "254                     3             0  \n",
       "\n",
       "[255 rows x 16 columns]"
      ]
     },
     "execution_count": 26,
     "metadata": {},
     "output_type": "execute_result"
    }
   ],
   "source": [
    "df"
   ]
  },
  {
   "cell_type": "markdown",
   "metadata": {
    "id": "aw8vWCgzDvsy"
   },
   "source": [
    "# Classification Model"
   ]
  },
  {
   "cell_type": "code",
   "execution_count": 158,
   "metadata": {
    "executionInfo": {
     "elapsed": 835,
     "status": "ok",
     "timestamp": 1620652263121,
     "user": {
      "displayName": "Dimas Ananda",
      "photoUrl": "https://lh3.googleusercontent.com/a-/AOh14GjQoWSlMey42FZoIAI9fuzbLxZ4pYkpyEtx6WFB=s64",
      "userId": "05964969844651745902"
     },
     "user_tz": -420
    },
    "id": "dE9sFc1MDvsz"
   },
   "outputs": [],
   "source": [
    "from sklearn.model_selection import train_test_split"
   ]
  },
  {
   "cell_type": "code",
   "execution_count": 159,
   "metadata": {
    "executionInfo": {
     "elapsed": 1179,
     "status": "ok",
     "timestamp": 1620652263493,
     "user": {
      "displayName": "Dimas Ananda",
      "photoUrl": "https://lh3.googleusercontent.com/a-/AOh14GjQoWSlMey42FZoIAI9fuzbLxZ4pYkpyEtx6WFB=s64",
      "userId": "05964969844651745902"
     },
     "user_tz": -420
    },
    "id": "XKD9lPMEDvsz"
   },
   "outputs": [],
   "source": [
    "X = data.iloc[:,3:].values\n",
    "y= data['cluster'].values"
   ]
  },
  {
   "cell_type": "code",
   "execution_count": 160,
   "metadata": {
    "colab": {
     "base_uri": "https://localhost:8080/"
    },
    "executionInfo": {
     "elapsed": 1151,
     "status": "ok",
     "timestamp": 1620652263496,
     "user": {
      "displayName": "Dimas Ananda",
      "photoUrl": "https://lh3.googleusercontent.com/a-/AOh14GjQoWSlMey42FZoIAI9fuzbLxZ4pYkpyEtx6WFB=s64",
      "userId": "05964969844651745902"
     },
     "user_tz": -420
    },
    "id": "PR2chy0xDvs0",
    "outputId": "e880183d-2701-45b2-892d-7a71f4aca8ff"
   },
   "outputs": [
    {
     "name": "stdout",
     "output_type": "stream",
     "text": [
      "Total Rows Data X Training 204\n",
      "Total Rows Data X Testing 51\n",
      "Total Rows Data y Training 204\n",
      "Total Rows Data y Testing 51\n"
     ]
    }
   ],
   "source": [
    "X_train, X_test, y_train, y_test = train_test_split(X, y, test_size=0.2, random_state=0)\n",
    "print('Total Rows Data X Training',X_train.shape[0])\n",
    "print('Total Rows Data X Testing',X_test.shape[0])\n",
    "print('Total Rows Data y Training',y_train.shape[0])\n",
    "print('Total Rows Data y Testing',y_test.shape[0])"
   ]
  },
  {
   "cell_type": "code",
   "execution_count": 30,
   "metadata": {
    "colab": {
     "base_uri": "https://localhost:8080/"
    },
    "executionInfo": {
     "elapsed": 1130,
     "status": "ok",
     "timestamp": 1620652263500,
     "user": {
      "displayName": "Dimas Ananda",
      "photoUrl": "https://lh3.googleusercontent.com/a-/AOh14GjQoWSlMey42FZoIAI9fuzbLxZ4pYkpyEtx6WFB=s64",
      "userId": "05964969844651745902"
     },
     "user_tz": -420
    },
    "id": "mAOtKpM_Dvs0",
    "outputId": "144a5c19-5a8a-446f-aa42-41636abb277f"
   },
   "outputs": [
    {
     "name": "stdout",
     "output_type": "stream",
     "text": [
      "              precision    recall  f1-score   support\n",
      "\n",
      "           0       0.75      1.00      0.86         9\n",
      "           1       1.00      0.75      0.86         4\n",
      "           2       1.00      1.00      1.00         2\n",
      "           3       0.80      1.00      0.89         4\n",
      "           5       1.00      1.00      1.00         2\n",
      "           7       0.00      0.00      0.00         1\n",
      "           8       0.00      0.00      0.00         0\n",
      "           9       1.00      1.00      1.00         3\n",
      "          10       1.00      0.67      0.80         3\n",
      "          11       1.00      1.00      1.00         4\n",
      "          12       0.50      0.50      0.50         2\n",
      "          13       0.75      1.00      0.86         3\n",
      "          14       1.00      1.00      1.00         1\n",
      "          15       0.00      0.00      0.00         4\n",
      "          17       0.50      1.00      0.67         3\n",
      "          18       0.00      0.00      0.00         1\n",
      "          19       1.00      0.80      0.89         5\n",
      "\n",
      "    accuracy                           0.80        51\n",
      "   macro avg       0.66      0.69      0.67        51\n",
      "weighted avg       0.76      0.80      0.77        51\n",
      "\n",
      "Akurasi Model : 0.803921568627451\n"
     ]
    }
   ],
   "source": [
    "from sklearn.neighbors import KNeighborsClassifier\n",
    "knn = KNeighborsClassifier()\n",
    "model=knn.fit(X_train,y_train)\n",
    "y_pred = model.predict(X_test)\n",
    "cr = classification_report(y_test, y_pred)\n",
    "print(cr)\n",
    "print('Akurasi Model :', accuracy_score(y_test, y_pred))"
   ]
  },
  {
   "cell_type": "code",
   "execution_count": 31,
   "metadata": {
    "colab": {
     "base_uri": "https://localhost:8080/"
    },
    "executionInfo": {
     "elapsed": 1619,
     "status": "ok",
     "timestamp": 1620652264011,
     "user": {
      "displayName": "Dimas Ananda",
      "photoUrl": "https://lh3.googleusercontent.com/a-/AOh14GjQoWSlMey42FZoIAI9fuzbLxZ4pYkpyEtx6WFB=s64",
      "userId": "05964969844651745902"
     },
     "user_tz": -420
    },
    "id": "9tlFtTMDDvs1",
    "outputId": "a12d22c9-57dc-44c5-a99c-e727fda29261"
   },
   "outputs": [
    {
     "name": "stdout",
     "output_type": "stream",
     "text": [
      "              precision    recall  f1-score   support\n",
      "\n",
      "           0       0.75      1.00      0.86         9\n",
      "           1       1.00      0.75      0.86         4\n",
      "           2       1.00      1.00      1.00         2\n",
      "           3       1.00      0.75      0.86         4\n",
      "           5       1.00      1.00      1.00         2\n",
      "           7       0.00      0.00      0.00         1\n",
      "           8       0.00      0.00      0.00         0\n",
      "           9       0.75      1.00      0.86         3\n",
      "          10       1.00      0.67      0.80         3\n",
      "          11       1.00      1.00      1.00         4\n",
      "          12       0.67      1.00      0.80         2\n",
      "          13       0.75      1.00      0.86         3\n",
      "          14       1.00      1.00      1.00         1\n",
      "          15       0.00      0.00      0.00         4\n",
      "          17       0.50      1.00      0.67         3\n",
      "          18       0.00      0.00      0.00         1\n",
      "          19       1.00      0.80      0.89         5\n",
      "\n",
      "    accuracy                           0.80        51\n",
      "   macro avg       0.67      0.70      0.67        51\n",
      "weighted avg       0.77      0.80      0.77        51\n",
      "\n",
      "Akurasi Model : 0.803921568627451\n"
     ]
    }
   ],
   "source": [
    "from sklearn.ensemble import RandomForestClassifier\n",
    "forest = RandomForestClassifier()\n",
    "model2= forest.fit(X_train,y_train)\n",
    "y_pred2 = model2.predict(X_test)\n",
    "cr2 = classification_report(y_test, y_pred2)\n",
    "print(cr2)\n",
    "print('Akurasi Model :', accuracy_score(y_test, y_pred2))"
   ]
  },
  {
   "cell_type": "code",
   "execution_count": 32,
   "metadata": {
    "colab": {
     "base_uri": "https://localhost:8080/"
    },
    "executionInfo": {
     "elapsed": 1603,
     "status": "ok",
     "timestamp": 1620652264016,
     "user": {
      "displayName": "Dimas Ananda",
      "photoUrl": "https://lh3.googleusercontent.com/a-/AOh14GjQoWSlMey42FZoIAI9fuzbLxZ4pYkpyEtx6WFB=s64",
      "userId": "05964969844651745902"
     },
     "user_tz": -420
    },
    "id": "GBatd26JDvs2",
    "outputId": "6d323521-1ba8-4724-cd31-aa11c9180bb6"
   },
   "outputs": [
    {
     "name": "stdout",
     "output_type": "stream",
     "text": [
      "              precision    recall  f1-score   support\n",
      "\n",
      "           0       0.60      1.00      0.75         9\n",
      "           1       0.00      0.00      0.00         4\n",
      "           2       1.00      1.00      1.00         2\n",
      "           3       0.57      1.00      0.73         4\n",
      "           5       1.00      1.00      1.00         2\n",
      "           7       0.00      0.00      0.00         1\n",
      "           8       0.00      0.00      0.00         0\n",
      "           9       1.00      1.00      1.00         3\n",
      "          10       1.00      0.67      0.80         3\n",
      "          11       1.00      1.00      1.00         4\n",
      "          12       0.00      0.00      0.00         2\n",
      "          13       0.00      0.00      0.00         3\n",
      "          14       1.00      1.00      1.00         1\n",
      "          15       0.00      0.00      0.00         4\n",
      "          17       0.23      1.00      0.38         3\n",
      "          18       0.00      0.00      0.00         1\n",
      "          19       0.00      0.00      0.00         5\n",
      "\n",
      "    accuracy                           0.59        51\n",
      "   macro avg       0.44      0.51      0.45        51\n",
      "weighted avg       0.46      0.59      0.49        51\n",
      "\n",
      "Akurasi Model : 0.5882352941176471\n"
     ]
    }
   ],
   "source": [
    "from sklearn.svm import SVC\n",
    "svc = SVC()\n",
    "model3=svc.fit(X_train,y_train)\n",
    "y_pred3 = model3.predict(X_test)\n",
    "cr3 = classification_report(y_test, y_pred3)\n",
    "print(cr3)\n",
    "print('Akurasi Model :', accuracy_score(y_test, y_pred3))"
   ]
  },
  {
   "cell_type": "code",
   "execution_count": 33,
   "metadata": {
    "colab": {
     "base_uri": "https://localhost:8080/"
    },
    "executionInfo": {
     "elapsed": 2995,
     "status": "ok",
     "timestamp": 1620652265434,
     "user": {
      "displayName": "Dimas Ananda",
      "photoUrl": "https://lh3.googleusercontent.com/a-/AOh14GjQoWSlMey42FZoIAI9fuzbLxZ4pYkpyEtx6WFB=s64",
      "userId": "05964969844651745902"
     },
     "user_tz": -420
    },
    "id": "KXUmHQHwDvs3",
    "outputId": "9c569588-a8f0-4aa4-e7a5-e22ecf690ba2"
   },
   "outputs": [
    {
     "name": "stdout",
     "output_type": "stream",
     "text": [
      "   cross_validation\n",
      "0          0.902439\n",
      "1          0.878049\n",
      "2          0.878049\n",
      "3          0.902439\n",
      "4          0.925000\n",
      "0.90 accuracy with a standard deviation of 0.02\n"
     ]
    }
   ],
   "source": [
    "#Cross Validation\n",
    "scores = cross_val_score(forest, X_train, y_train, cv=5)\n",
    "cross_validation=pd.DataFrame(scores, columns=['cross_validation'])\n",
    "print (cross_validation)\n",
    "print(\"%0.2f accuracy with a standard deviation of %0.2f\" % (scores.mean(), scores.std()))"
   ]
  },
  {
   "cell_type": "markdown",
   "metadata": {
    "id": "GX3_zQizDvs4"
   },
   "source": [
    "#### Classification with TensorFlow"
   ]
  },
  {
   "cell_type": "code",
   "execution_count": 161,
   "metadata": {},
   "outputs": [],
   "source": [
    "encoder = LabelEncoder()\n",
    "encoder.fit(y_train)\n",
    "y_train_label= encoder.transform(y_train)\n",
    "y_train_label = np_utils.to_categorical(y_train)\n",
    "y_test_label = encoder.transform(y_test)\n",
    "y_test_label = np_utils.to_categorical(y_test)"
   ]
  },
  {
   "cell_type": "code",
   "execution_count": 162,
   "metadata": {
    "colab": {
     "base_uri": "https://localhost:8080/"
    },
    "executionInfo": {
     "elapsed": 2974,
     "status": "ok",
     "timestamp": 1620652265439,
     "user": {
      "displayName": "Dimas Ananda",
      "photoUrl": "https://lh3.googleusercontent.com/a-/AOh14GjQoWSlMey42FZoIAI9fuzbLxZ4pYkpyEtx6WFB=s64",
      "userId": "05964969844651745902"
     },
     "user_tz": -420
    },
    "id": "zS3d8cReDvs4",
    "outputId": "57a146a6-6de9-4d15-c1b7-6c47c85af635"
   },
   "outputs": [
    {
     "name": "stdout",
     "output_type": "stream",
     "text": [
      "Model: \"sequential_16\"\n",
      "_________________________________________________________________\n",
      "Layer (type)                 Output Shape              Param #   \n",
      "=================================================================\n",
      "dense_59 (Dense)             (None, 40)                280       \n",
      "_________________________________________________________________\n",
      "dense_60 (Dense)             (None, 25)                1025      \n",
      "_________________________________________________________________\n",
      "dense_61 (Dense)             (None, 25)                650       \n",
      "_________________________________________________________________\n",
      "dense_62 (Dense)             (None, 20)                520       \n",
      "=================================================================\n",
      "Total params: 2,475\n",
      "Trainable params: 2,475\n",
      "Non-trainable params: 0\n",
      "_________________________________________________________________\n"
     ]
    }
   ],
   "source": [
    "import tensorflow as tf\n",
    "\n",
    "modeltf = tf.keras.Sequential([\n",
    "    tf.keras.layers.Dense(40, activation=tf.nn.relu, \n",
    "                          input_shape=(6,)),\n",
    "    tf.keras.layers.Dense(25, activation=tf.nn.relu),\n",
    "    tf.keras.layers.Dense(25, activation=tf.nn.relu),\n",
    "    tf.keras.layers.Dense(20, activation=tf.nn.softmax)\n",
    "])\n",
    "\n",
    "modeltf.summary()"
   ]
  },
  {
   "cell_type": "code",
   "execution_count": 163,
   "metadata": {
    "executionInfo": {
     "elapsed": 2961,
     "status": "ok",
     "timestamp": 1620652265445,
     "user": {
      "displayName": "Dimas Ananda",
      "photoUrl": "https://lh3.googleusercontent.com/a-/AOh14GjQoWSlMey42FZoIAI9fuzbLxZ4pYkpyEtx6WFB=s64",
      "userId": "05964969844651745902"
     },
     "user_tz": -420
    },
    "id": "MOh7ciDhDvs5"
   },
   "outputs": [],
   "source": [
    "modeltf.compile(loss='categorical_crossentropy',optimizer='Adam',metrics=['accuracy'])"
   ]
  },
  {
   "cell_type": "code",
   "execution_count": 164,
   "metadata": {
    "colab": {
     "base_uri": "https://localhost:8080/"
    },
    "executionInfo": {
     "elapsed": 10424,
     "status": "ok",
     "timestamp": 1620652272930,
     "user": {
      "displayName": "Dimas Ananda",
      "photoUrl": "https://lh3.googleusercontent.com/a-/AOh14GjQoWSlMey42FZoIAI9fuzbLxZ4pYkpyEtx6WFB=s64",
      "userId": "05964969844651745902"
     },
     "user_tz": -420
    },
    "id": "v-9HEquFDvs5",
    "outputId": "4fe131ca-a36b-4806-fec1-eaa5302d74ff"
   },
   "outputs": [
    {
     "data": {
      "text/plain": [
       "1.0"
      ]
     },
     "execution_count": 164,
     "metadata": {},
     "output_type": "execute_result"
    }
   ],
   "source": [
    "history = modeltf.fit(X_train, y_train_label, epochs=500, verbose=0)\n",
    "history.history['accuracy'][-1]"
   ]
  },
  {
   "cell_type": "code",
   "execution_count": 165,
   "metadata": {
    "colab": {
     "base_uri": "https://localhost:8080/",
     "height": 366
    },
    "executionInfo": {
     "elapsed": 12113,
     "status": "ok",
     "timestamp": 1620652274651,
     "user": {
      "displayName": "Dimas Ananda",
      "photoUrl": "https://lh3.googleusercontent.com/a-/AOh14GjQoWSlMey42FZoIAI9fuzbLxZ4pYkpyEtx6WFB=s64",
      "userId": "05964969844651745902"
     },
     "user_tz": -420
    },
    "id": "kcNXj4iZDvs6",
    "outputId": "33854876-49e3-4abd-ce67-811c04db8efb"
   },
   "outputs": [
    {
     "data": {
      "text/plain": [
       "<matplotlib.legend.Legend at 0x5212443708>"
      ]
     },
     "execution_count": 165,
     "metadata": {},
     "output_type": "execute_result"
    },
    {
     "data": {
      "image/png": "[encoded data removed]",
      "text/plain": [
       "<Figure size 1152x360 with 2 Axes>"
      ]
     },
     "metadata": {
      "needs_background": "light"
     },
     "output_type": "display_data"
    }
   ],
   "source": [
    "plt.figure(figsize=(16,5))\n",
    "plt.subplot(1,2,1)\n",
    "plt.plot(history.history['accuracy'])\n",
    "plt.title('Training Accuracy')\n",
    "plt.ylabel('accuracy')\n",
    "plt.xlabel('epoch')\n",
    "plt.legend(['train_accuracy'], loc='best')\n",
    "plt.subplot(1,2,2)\n",
    "plt.plot(history.history['loss'])\n",
    "plt.title('Training Loss')\n",
    "plt.ylabel('loss')\n",
    "plt.xlabel('epoch')\n",
    "plt.legend(['train_loss'], loc='best')"
   ]
  },
  {
   "cell_type": "code",
   "execution_count": 167,
   "metadata": {
    "colab": {
     "base_uri": "https://localhost:8080/"
    },
    "executionInfo": {
     "elapsed": 12109,
     "status": "ok",
     "timestamp": 1620652274664,
     "user": {
      "displayName": "Dimas Ananda",
      "photoUrl": "https://lh3.googleusercontent.com/a-/AOh14GjQoWSlMey42FZoIAI9fuzbLxZ4pYkpyEtx6WFB=s64",
      "userId": "05964969844651745902"
     },
     "user_tz": -420
    },
    "id": "5x7Nx2g1Dvs7",
    "outputId": "e82b6ebc-1402-4cdc-aa74-c61d90217583"
   },
   "outputs": [
    {
     "name": "stdout",
     "output_type": "stream",
     "text": [
      "2/2 [==============================] - 0s 5ms/step - loss: 0.8982 - accuracy: 0.8824\n",
      "\n",
      "accuracy: 88.24%\n"
     ]
    }
   ],
   "source": [
    "scores = modeltf.evaluate(X_test, y_test_label)\n",
    "print(\"\\n%s: %.2f%%\" % (modeltf.metrics_names[1], scores[1]*100))"
   ]
  },
  {
   "cell_type": "code",
   "execution_count": 169,
   "metadata": {},
   "outputs": [],
   "source": [
    "y_preds = modeltf.predict_classes(X_test)\n",
    "y_pred = np.argmax(to_categorical(y_preds), axis = 1)\n",
    "y_pred = encoder.inverse_transform(y_pred)"
   ]
  },
  {
   "cell_type": "code",
   "execution_count": 170,
   "metadata": {},
   "outputs": [
    {
     "name": "stdout",
     "output_type": "stream",
     "text": [
      "Akurasi Model : 0.8823529411764706\n"
     ]
    }
   ],
   "source": [
    "print('Akurasi Model :', accuracy_score(y_test, y_pred))"
   ]
  },
  {
   "cell_type": "markdown",
   "metadata": {
    "id": "nFV6u4Iqm8dQ"
   },
   "source": [
    "# Input Data"
   ]
  },
  {
   "cell_type": "markdown",
   "metadata": {
    "id": "IhdSBSTQDvs8"
   },
   "source": [
    "vegetarian=1\n",
    "non vegetarian=0\n",
    "\n",
    "bitter=0\n",
    "sour=1\n",
    "spicy=2\n",
    "sweet=3\n",
    "\n",
    "dessert=0\n",
    "main course=1\n",
    "snack=2\n",
    "starter=3\n",
    "\n",
    "Diabetic Friendly\n",
    "yes = 0\n",
    "no = 1\n",
    "\n",
    "halal\n",
    "no = 0\n",
    "yes = 1\n"
   ]
  },
  {
   "cell_type": "code",
   "execution_count": 171,
   "metadata": {
    "colab": {
     "base_uri": "https://localhost:8080/"
    },
    "executionInfo": {
     "elapsed": 109099,
     "status": "ok",
     "timestamp": 1620653425614,
     "user": {
      "displayName": "Dimas Ananda",
      "photoUrl": "https://lh3.googleusercontent.com/a-/AOh14GjQoWSlMey42FZoIAI9fuzbLxZ4pYkpyEtx6WFB=s64",
      "userId": "05964969844651745902"
     },
     "user_tz": -420
    },
    "id": "TM2ombK0Dvs8",
    "outputId": "830f9ee9-84d1-40fb-f605-fca37a19f509"
   },
   "outputs": [
    {
     "name": "stdout",
     "output_type": "stream",
     "text": [
      "Country? *India available India\n",
      "Cooking Time(Minutes)? 40\n",
      "Calories(Kcal)? 170\n",
      "Diabetic Friendly? \n",
      "(0) Yes \n",
      "(1) No \n",
      " Please Select by Number: 0\n",
      "Diet? \n",
      "(0) Non Vegetarian \n",
      "(1) Vegetarian \n",
      " Please Select by Number: 0\n",
      "Flavor? \n",
      "(0) Bitter \n",
      "(1) Sour \n",
      "(2) Spicy \n",
      "(3) Sweet \n",
      " Please Select by Number: 0\n",
      "(0) Dessert \n",
      "(1) Main Course \n",
      "(2) Snack \n",
      "(3) Starter \n",
      " Please Select by Number: 0\n",
      "Thank You!\n"
     ]
    }
   ],
   "source": [
    "country = input(\"Country? *India available \")\n",
    "new_cook = input(\"Cooking Time(Minutes)? \")\n",
    "new_calories =input(\"Calories(Kcal)? \")\n",
    "new_diabetes =input(\"Diabetic Friendly? \\n(0) Yes \\n(1) No \\n Please Select by Number: \")\n",
    "new_diet =input(\"Diet? \\n(0) Non Vegetarian \\n(1) Vegetarian \\n Please Select by Number: \")\n",
    "new_flavor=input(\"Flavor? \\n(0) Bitter \\n(1) Sour \\n(2) Spicy \\n(3) Sweet \\n Please Select by Number: \")\n",
    "new_course=input(\"(0) Dessert \\n(1) Main Course \\n(2) Snack \\n(3) Starter \\n Please Select by Number: \")\n",
    "print(\"Thank You!\")"
   ]
  },
  {
   "cell_type": "markdown",
   "metadata": {
    "id": "62sj-jqhDvs7"
   },
   "source": [
    "# Predict New Data (Recommendation)"
   ]
  },
  {
   "cell_type": "code",
   "execution_count": 172,
   "metadata": {
    "executionInfo": {
     "elapsed": 781,
     "status": "ok",
     "timestamp": 1620655539277,
     "user": {
      "displayName": "Dimas Ananda",
      "photoUrl": "https://lh3.googleusercontent.com/a-/AOh14GjQoWSlMey42FZoIAI9fuzbLxZ4pYkpyEtx6WFB=s64",
      "userId": "05964969844651745902"
     },
     "user_tz": -420
    },
    "id": "79AYvN3UDvs9"
   },
   "outputs": [
    {
     "data": {
      "text/html": [
       "<div>\n",
       "<style scoped>\n",
       "    .dataframe tbody tr th:only-of-type {\n",
       "        vertical-align: middle;\n",
       "    }\n",
       "\n",
       "    .dataframe tbody tr th {\n",
       "        vertical-align: top;\n",
       "    }\n",
       "\n",
       "    .dataframe thead th {\n",
       "        text-align: right;\n",
       "    }\n",
       "</style>\n",
       "<table border=\"1\" class=\"dataframe\">\n",
       "  <thead>\n",
       "    <tr style=\"text-align: right;\">\n",
       "      <th></th>\n",
       "      <th>name</th>\n",
       "      <th>ingredients</th>\n",
       "    </tr>\n",
       "  </thead>\n",
       "  <tbody>\n",
       "    <tr>\n",
       "      <th>0</th>\n",
       "      <td>Malapua</td>\n",
       "      <td>Yoghurt, refined flour, ghee, fennel seeds</td>\n",
       "    </tr>\n",
       "    <tr>\n",
       "      <th>1</th>\n",
       "      <td>Biryani</td>\n",
       "      <td>Chicken thighs, basmati rice, star anise, swee...</td>\n",
       "    </tr>\n",
       "    <tr>\n",
       "      <th>2</th>\n",
       "      <td>Pindi chana</td>\n",
       "      <td>Fennel, tea bags, tomato, kasuri methi, cinnamon</td>\n",
       "    </tr>\n",
       "    <tr>\n",
       "      <th>3</th>\n",
       "      <td>Rajma chaval</td>\n",
       "      <td>Red kidney beans, garam masala powder, ginger,...</td>\n",
       "    </tr>\n",
       "    <tr>\n",
       "      <th>4</th>\n",
       "      <td>Dosa</td>\n",
       "      <td>Chana dal, urad dal, whole urad dal, blend ric...</td>\n",
       "    </tr>\n",
       "    <tr>\n",
       "      <th>5</th>\n",
       "      <td>Idli</td>\n",
       "      <td>Split urad dal, urad dal, idli rice, thick poh...</td>\n",
       "    </tr>\n",
       "    <tr>\n",
       "      <th>6</th>\n",
       "      <td>Kuzhakkattai</td>\n",
       "      <td>Sesame oil, raw rice, jaggery, grated coconut</td>\n",
       "    </tr>\n",
       "    <tr>\n",
       "      <th>7</th>\n",
       "      <td>Masala Dosa</td>\n",
       "      <td>Chana dal, urad dal, potatoes, idli rice, thic...</td>\n",
       "    </tr>\n",
       "  </tbody>\n",
       "</table>\n",
       "</div>"
      ],
      "text/plain": [
       "           name                                        ingredients\n",
       "0       Malapua         Yoghurt, refined flour, ghee, fennel seeds\n",
       "1       Biryani  Chicken thighs, basmati rice, star anise, swee...\n",
       "2   Pindi chana   Fennel, tea bags, tomato, kasuri methi, cinnamon\n",
       "3  Rajma chaval  Red kidney beans, garam masala powder, ginger,...\n",
       "4          Dosa  Chana dal, urad dal, whole urad dal, blend ric...\n",
       "5          Idli  Split urad dal, urad dal, idli rice, thick poh...\n",
       "6  Kuzhakkattai      Sesame oil, raw rice, jaggery, grated coconut\n",
       "7   Masala Dosa  Chana dal, urad dal, potatoes, idli rice, thic..."
      ]
     },
     "execution_count": 172,
     "metadata": {},
     "output_type": "execute_result"
    }
   ],
   "source": [
    "new_df = {'new_cook': [int(new_cook)],\n",
    "        'new_calories': [int(new_calories)],\n",
    "        'new_diabetes': [int(new_diabetes)],\n",
    "        'new_diet':[int(new_diet)],\n",
    "        'new_flavor' : [int(new_flavor)],\n",
    "        'new_course': [int(new_course)]}\n",
    "new_df = pd.DataFrame(new_df)\n",
    "newcolumns_to_normalize = ['new_cook','new_calories']\n",
    "new_df[newcolumns_to_normalize] = pd.DataFrame(scaler.transform(new_df[newcolumns_to_normalize]))\n",
    "X_new = new_df.values\n",
    "y_new_label = modeltf.predict_classes(X_new)\n",
    "y_new = np.argmax(to_categorical(y_new_label), axis = 1)\n",
    "y_new = encoder.inverse_transform(y_new)\n",
    "r= data.loc[data[\"cluster\"]==int(y_new)]\n",
    "recommendation = r.iloc[:,1:3].reset_index(drop=True)\n",
    "recommendation"
   ]
  },
  {
   "cell_type": "code",
   "execution_count": 173,
   "metadata": {
    "executionInfo": {
     "elapsed": 1613,
     "status": "ok",
     "timestamp": 1620655544592,
     "user": {
      "displayName": "Dimas Ananda",
      "photoUrl": "https://lh3.googleusercontent.com/a-/AOh14GjQoWSlMey42FZoIAI9fuzbLxZ4pYkpyEtx6WFB=s64",
      "userId": "05964969844651745902"
     },
     "user_tz": -420
    },
    "id": "N6zlzcuiDvtA"
   },
   "outputs": [],
   "source": [
    "#Check Data\n",
    "#df.loc[df[\"cluster\"]==int(y_new)]\n",
    "#data.loc[data[\"flavor_profile_label\"]==1]\n",
    "#data[\"flavor_profile_label\"].value_counts()"
   ]
  },
  {
   "cell_type": "code",
   "execution_count": 174,
   "metadata": {
    "colab": {
     "base_uri": "https://localhost:8080/",
     "height": 1000
    },
    "executionInfo": {
     "elapsed": 1605,
     "status": "ok",
     "timestamp": 1620655580979,
     "user": {
      "displayName": "Dimas Ananda",
      "photoUrl": "https://lh3.googleusercontent.com/a-/AOh14GjQoWSlMey42FZoIAI9fuzbLxZ4pYkpyEtx6WFB=s64",
      "userId": "05964969844651745902"
     },
     "user_tz": -420
    },
    "id": "zUak3qslhCIe",
    "outputId": "2408834a-8ffe-4302-f21b-f00220106c8a"
   },
   "outputs": [
    {
     "data": {
      "text/html": [
       "<table border=\"1\" class=\"dataframe\">\n",
       "  <thead>\n",
       "    <tr style=\"text-align: right;\">\n",
       "      <th></th>\n",
       "      <th>name</th>\n",
       "      <th>ingredients</th>\n",
       "      <th>image</th>\n",
       "    </tr>\n",
       "  </thead>\n",
       "  <tbody>\n",
       "    <tr>\n",
       "      <th>0</th>\n",
       "      <td>Malapua</td>\n",
       "      <td>Yoghurt, refined flour, ghee, fennel seeds</td>\n",
       "      <td><img src=\"data:image/jpeg;base64,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\" style=max-height:124px;\"/></td>\n",
       "    </tr>\n",
       "    <tr>\n",
       "      <th>1</th>\n",
       "      <td>Biryani</td>\n",
       "      <td>Chicken thighs, basmati rice, star anise, sweet, green chillies</td>\n",
       "      <td><img src=\"data:image/jpeg;base64,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\" style=max-height:124px;\"/></td>\n",
       "    </tr>\n",
       "    <tr>\n",
       "      <th>2</th>\n",
       "      <td>Pindi chana</td>\n",
       "      <td>Fennel, tea bags, tomato, kasuri methi, cinnamon</td>\n",
       "      <td><img src=\"data:image/jpeg;base64,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\" style=max-height:124px;\"/></td>\n",
       "    </tr>\n",
       "    <tr>\n",
       "      <th>3</th>\n",
       "      <td>Rajma chaval</td>\n",
       "      <td>Red kidney beans, garam masala powder, ginger, tomato, mustard oil</td>\n",
       "      <td><img src=\"data:image/jpeg;base64,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\" style=max-height:124px;\"/></td>\n",
       "    </tr>\n",
       "    <tr>\n",
       "      <th>4</th>\n",
       "      <td>Dosa</td>\n",
       "      <td>Chana dal, urad dal, whole urad dal, blend rice, rock salt</td>\n",
       "      <td><img src=\"data:image/jpeg;base64,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\" style=max-height:124px;\"/></td>\n",
       "    </tr>\n",
       "    <tr>\n",
       "      <th>5</th>\n",
       "      <td>Idli</td>\n",
       "      <td>Split urad dal, urad dal, idli rice, thick poha, rock salt</td>\n",
       "      <td><img src=\"data:image/jpeg;base64,/9j/4AAQSkZJRgABAQAAAQABAAD/2wCEAAoHCBYWFRgVFhYZGRgaHBgaGhwaHBwZHBgaHBgaGRgcGBgcIS4lHB4rHxgaJjgmKy8xNTU1GiQ7QDs0Py40NTEBDAwMEA8QHhISHDQkJCE0NDQ0NDE0NDQ0NDQ0MTQ0NDQ0NDQ0NDQ0NDQ0NDQ0NDQ0NDQxNDQ0NDQxNDQ0NDQ0NP/AABEIAOEA4QMBIgACEQEDEQH/xAAcAAABBQEBAQAAAAAAAAAAAAACAAEDBAUGBwj/xAA9EAACAAMGAwYDBwMEAgMAAAABAgADEQQSITFBUQVhcQYigZGh8BMysQdCUmLB0fEUcuEjM4KSFbIkU6L/xAAaAQADAQEBAQAAAAAAAAAAAAAAAQIEAwUG/8QALREAAgIBAwIDBgcAAAAAAAAAAAECEQMEITESUUFhoQUTFSIysRQjM0KR8PH/2gAMAwEAAhEDEQA/APO+I2qvcUnHPGvuv0ingMB/POAB1OZx99YYtBFVsdMuSWSTlLxCLQNYSKWICgknIAEk9AIsHh0zVQDsXQH/AKlqxRzKpMWEQ3QB80zDogNPUg15LziKZLZTdYFSNCKRqcN4bNnPclIXcoioBu6iproAvxCScqQJCKUhb0wUrdXHfurjluT6tHZdnPs2tE+ky0t/TyzjdIrNauOCHBerY/ljuux/YyVYVDtdmWkgXmp3Zf5ZQP8A7HE8so3rZbVQXnbw1PQQpOMVcnQ4pydJGdwjstYrNT4UhS4+/M/1HruC2C/8QI13tG7U8Y5q08ZmOSEFxd82P7Rnub3zMWO5P7xiya+MXUVZshopPeTo6t+Iyxm6+Y/eI/8Aykv8a+cck9KUFAd6Vgro5Rw+IT7I6/god2djLtqn5XB8Ye0rLmqVmokxDmHVXHqMI434Qrhh0wMTSLXMT5XqNmx9c47Q9oLiSOc9E/2sDi/2a2aYb9mYyHrW4SXltyFe8vgSBtHn/G7HPs0wpapC1JJRsgy1+5MX5gNjiNQI9csHFL5CsCGOm/SNW3cOlWmU0megdDoc1OjK2asNxG7HOM11RZknCUHUkeCypkv8LjleRvUgRcScg+VHP9zhR/8AlTE3azs29gmhWq8pyfhvvqUfZx5EYjUDNk2gRZBppaWP4UGoWor1YksfOnKCZStKggHEVBFRyrGz2Msyu7OwBurQVxFW/wAD1joJFlRr9mcXlXvS65hGrQA7qQR0pDA4atYgnSQYuW+zGVMdDmpz3GYPlFesAGdUoYnNGEFPSsVVYqYQAzEpEBEXXxEVXWJYwSAwunwOxi5w61E9x/nXAGua8tzFKBepoymjriDvyiJR6kaNNneGal4eJvXhs/mYeMX/AM434T5wo4+7Z7XxLCZZaBrDEw0aD5005IlrKW87qZhapVQ1VU3QpN8Gle8QM6jaIP6SWfknIeTq0r1aq+sR2e0qFKTAShN4FaBlalLy1wNRgVOdBlSJf6RDitoSn50dD5AEesMRbs1inOUkNLdr5uyiBeuuflCutQVJoCK01wpHt3ZPs6lhkBahpzKPiP5m4hzuKSab5xyf2ScAVQ9sLlxikvulVr99wDi34QaD70egWy0hFLn+TA5KMeqXgCTk6RV4nxBZS7sch+p5RzDTGZr7m8TX+ANIknPfYs+LHEcs8OUV3w0pyjw9Rnlll5HsYMCxx8x5szHQREBhvCVaiJkTTXaMxoK7A105wLk6ROVFc6/vByZauwQtQnU5RUd3Qm0kQSFLMFX5jgOZjdsXCGLC+KLTQita0/zF3h3AQhvEq3UZa1A0PjG2WoKR6GDSJ7z/AIMObVU6iUJHDll1ZSa0pjj/ABkIdLWBMuHUAg751ie0TgBHM8Rn/wCoGBFVAOGmJNDzoY05JLBFOK4Znxp5pPq7HR8a4VLtUh5Ewd1xgRmjD5WX8wOMfPPEbE9nmvJmCjy2KnY6hhyIII5ER9G2KdeQNuAY89+1Gw2dXlTpqOBMBQumJVlF5Ly/eF0tz7sbFUoqSMz2dM5vsBxMLNaUxpfAu/3LXDyPpHa21rtokN+K+hPIrfA80jy+Zwd1HxbO4mKprel/OhGPeTMGOisHaxp/w5boBNRw4YYK9xWLA6qSKjXOBMAu2rUtOH4Er5mMVXrEdot7TnaY57zGvIDQDkBHS9nezIdBNntdQ4qtbtRux06QwOfMVrRL1j0F7NYPkSWHO0tWc+LLl5xynaHhvwmBVHRH+UOQWqMTkSadYQGFLemEPMERzRBK+EICEwIOMG4iJzEjJLw2HlCiKFBbAzzDQ8KAAYu2OwM4DFgik3VJBZnbKktRixrmcAN4bh9mDsSxIRFLuRndBACr+ZmKqObco2ODuTPku4AadMly5ajKXKLqjFRoKEov/Iw0hHunA+HCzWaTIXJEUHm1KuTzLEnxjJ7QTiWCDTE9dPfOOmm5Rxtvas1zzIB5DCkYvaE+mCivE16KPVJvsUCB8wgVOFYkZDDrJroaYEnYbx456hErAZxG75n3SNm1cKVxelMApwAxxzqQYJOzzimNRr/FY7rBK6SOTzRS5MezSWYkIKmOi4ZwcLdd/nBqAMweemeka1h4ciG8q3SQK4AVGlYszVFDdFCfrvjHoYtLGG8t2YsuplLaOyERvEFom0wiWaRTHyjOmPjGpmXkadNwNScI5Z5lWZqjEny297R0c1u6TXGh03jmWNKnLMgfsYwa57JG3Rrds7HgD1lL4j1gO1PDpc6UqzVDKrhhXQ0Ir5ExZ4HLpJTnj5mH47LRpd1wCpIqDlhjHoaZP3SvsjHn/UddzyfjnBpMt1eyzhLmA4i/QUxxLadDFaxJJmTVM55azlvNekm8rgI1S4pRTTGoOMH294xJuCzSAtLwaYVAAFMlwzNcfCOe7PSwDMdiAsuU5ONCSy3FAGtamOje9HMtTpq2c3TZlZTk5cteX8S07sdTwvj/AA8qoe/eAA/1Qz0pscV8o4PhtuuAI4vyiReXVd2TY/WN2xdm2mk/CmIQalL95C6aMopiNPCBMDs7R2zsiL3CXOiohHqQAI4njXGHtL337oGCIMQo66k7xHxPs3aZAvulVGbIbwHXUeUZgeHYEjmIgaQRaI2iWMNjELwYMRtAwFSFAXoUSBUpCpDw4hgaVhs7PJuL80y0IhOyqjMK8gWLf8Iv8IpMtkudW7JlTZIQ6UV1ElF5mgY7AsYyuGcRaSWoqurAhlatMVZaqVIKtR2FQcmMNauIM90gKol4oiC6qkGtQtcTXMnEw1Qj6acVEcRa6pMfP5mPv0jseFWtZ0mXMU1DorDowrHPdoLOUm3gMGGfMZ++cYPaMG4KS8GbdDKpOPcy3e9iYhMwjAUpT3+sWFAOdIn4XZUaYqOTQ/IBuO9j4Ax5cI9UlHuehKSjFvsbPApbKgRxSgFCKXSCK1qNY2pYGUCsumlPflBx7kIKKSPHnJydgkGsA7ihhTplIozJhim6JoGa9YrNEh84pcStYlIznGmQ3OghWkrY4pt0ijxCjuJQe7QVJ3rkPLGIRwx76IwqGNARiMM/SMaQjUYlu+xJJOPeJrHadkuHFV+M9bzYLXE3d8d485L8Rkr+0ejL8iF3/p0MqWFUKMgAB4R5x9svELsmTJUkM7lzQ07iKRjT8zrHpbR88/aBxwWm2OyGqS/9NDoQpN5h1avgBHsfTGkeVduzAsMtnmIiqGZzdAIqKthiOWfhHqidnpKGz2YorApMZyRizBVBYnerYRxn2eWYPbUJ+4jv44KP/Yx6VaFJtkv8smafN5YH0MEUJs8j7R8O/prQ8rMChU7qcRXnmPCO17FBLVY/gsSryWN1lNHSuKMp8xtgRGJ9pq0tSHUyxXwZowez3Gnss5ZiYjJ1/Guo67QXTHyj1mwcRdHFntVLxwlzKdyaNtlfcHPSOa7cdmBLH9RIWiV/1EGQr95RoNxHXWK3We2yqqVdD8yn5lPMZgiCTuI0icbyFWCO33lpirH8QHmIoVni9YRaI3pU0yqaHlXCFeiCgiYasIwNYQD0h4GFCArQoUKGA8MTDwpcu+yoM2ZV/wCxA/WAD2v7K+Kg2dbM7VdEVwMiEcsVHgKDxEdrxKwCahXUYqdjHzpZeOPZ7WbRLOKuRTR5Y7lw8iqj0OkfQvZ3jMu1SVnyj3WGIOaNqrDQgwTgpxcWEZOElJHM2awu0z4ZXvCtSdtzHRWThZl4hscidxXQaRpzJS3r1BepSutIjdtzGPFpY43b3Zpy6mU1S2QyH3/mBd6RE8+mEQTHJjS2jOKbMrEDE7wnmAZkVjC4z2jSR3fnY6AjDr+0RJpbsuMXJ0jUtNpRFvMwA0qczStBvHF2/iLTXJNQgPdU4fyYjnPNtjrdQ0U90ZBT1js+CdmEl0acb7jG7oDzjNPrzfLFbdzVDow/NLnsVez3BC9HcUTQfi68vrHZoKQCCON7dduUsimTKo9pYYLmErkz89lzPSNmHBHDGlz3MuXNLLK2VPtQ7XCRLNllN/rTFo5BxlocCajJmyG2J2jzHgnZe02sAykF3K+xuqKaDU5UwEdR2S4MHc2i0f6k1yWN+jUJ1IOF76ZCPTbDIVVAChQMgAAByAEXds5cHIdkOwj2VxOadecqVZQlFANDgxNSQRn6R1//AIpL/wASpvXbmeFCQ2W9QI0kWCCw7FRx3aDsHItT/Ed5iuFu90rdwrSoIrmdCI4a2fZValIEuZKcUxJLJQ7Uo1etY9rKQ1IQz54tHZ232Ql/hTEoMXlm8tBuVrh1EDaO1VpmSjJmOrowpUoL3UMNedI+hnSOI7W9g5doF+QElTRUmigK5Oj0y6w0wPGQYIGLXEuGTbO5lzUKsPEEbqciIqQhhrAwcuAbOAB4UNChAV4QNco3exnCEtNrSTMBKXXZwCRUKuAqMRiR5R6Dxnsmlrs6sqqlpQGWWAuh2QlGVwMwStQdKjTOlGxN0eQmLHBz/wDIl/3A+QJHqIhnS2UlWBVlJDA5gg0IPiILhzXZ0ttnX1YA/WEMphsB7rHScD7UTrBPBlG8ihVdCe69MWP5WDE0YeowjHs8sI7FspZJpuwJVR/2p5GKROZOeZ/WAD6M4J2pkW5L8l++B35bYOnUaj8wqPpFuZPI/wAx868Os08zKyVcOmNVqjJzLYXY9U4HxK3XQtpeW40cL3h1YFVbyrziZU+Ro6u0cSu6CvWM20cYcjuABuZqB5UMOlgLYsGpzP7RoSeEJqg9frHJpvgvZHMPOtD1Bm4HDuqooORoSPrEnDuziVvEEndsfrHXyuFSxklPEn6mLBshVaoAToCaVPUA0hrGvEbytbLYisFnCCiAL0z84tzJ6It52CjcmkcNx3j/ABCW1z+mWShwV6/GvYkYMO6pwrRqmhGEWeA8Mdz8W0Ozv928ahRyXIeUdepLZI51e7OuWeJi4Xgp2qpI65j6xQTspYjWtkksSSSzqHZiTUlnarE13MaVnSgHKLKGE22KiGXYJSiglov9qKvTIRJ8FRlhEwaEDygABYKHI2gKUgAevKGxhgYR5wAPTCI2EFzhjXlT1MMDlO2XZQWxAUYLMStwn5SDmjU0O+keL2+xvKdpbqVdTRlOh66jnH0kwjgPtN4A01FtEsAmWpDgDvshINRvd25mK5EeSrDOMYlVCCa5wDjGEMGkNDwoQGl2U4mLNa5U5sEBKudkdSpPhUHwj2idMWTMvkgS5pWraLMoFUk6B1uiuVVH4o8iXsTbyAf6dh1dAfK/F48S4jYZPwZkv/RIKgTkvqoOF1XVqU2UnpFxdEtWVPtFsipbnu5TFRyNmYFT5la+Mcm1a4Z6ddKeMb86R/UhXSZemhQsyXMcXqqKBpbOQHQindrVThiIjtnD3sihpq3ZzgmWuDXFyLsQSL2ijTEwmtxrgpccIDlQKVN9/wC9xWnQYjqTHQ9iOxj2kidMqksEFBgGc1zFcl50xi/9nvZhbTdtM4Xkl9xVYd12BJq1c1FR1PSPXpUoDClB4eHhCCzAs3ZlEZnuksxF6mbUF0XqZ0EaacMVRgAF866+UaqDDeCUjSE6HZWSRT3SJ1leGESbUpT9Ien8wgEEhFYM9IakAAsopTMHMZ16iKpsirW6MPw086Rbh4AKqYZxKo/nSHdB/iBUbe94kZLSEGgAaf5MIdffSKESCEw84jBOoxx91hFt/fSABmGv8dIAV08Ikp5bQKtXEZQAPXzhQxwhHxgARPKI3OYESViMmKQmeDdqJbra56uQWvkkgUBBAK4f2kesYziO6+0+ysLSk67RXQJUauhJNfAjyjiHGMDGBSFB0hQAe7HiU5fnskzDWW8p1PSrq/moiKdxRnBT+itDhhQh1lKhBzvF3pTzPKOG7PfaG8tAloQzQooHUgPQZBw2DHnUHrnFriv2lFkK2eSUY/fmFTd5qikgnqfAxdojpZyVsaVZZ8wfArNR2uh3EyVK1UKABfYVGLYAjLCsBbLJMtMyxyakzJktWZicvizZkws3IIb0b/ZzsWJ0trZbHYS2DTAtaM64ku75gHEgDE56x2nBeCfDtD2hgvelSUUXRVCoYMqH7q0uA70hVsOzY4VwyXZ5aSpSBVQYak7k7kmpPWNJYir/ADBg74esSxolU8qfvBKx5eFfYiNKb5eHpDhtcOenr4RIw3c7bfXeHV/8QAPU40hwIAJFHl7yhj61/isCBBrAAKk+84cn3vBXoErXPHppAA4O0QzcDWJGXy9fTEQAQ0wNdq8tKwmMZev6Uh7wyrTyiNX6wYb9/wCYYDoMBTX0hya9KQDYih18fMiHHv36QAFX370gZja/TSHJ3PvlAMdKjp0gEOMtT9ecF719YiRqVgy584AFAsOkOxiJj5RQHnf2qzO7IWgFWdqZnAAA10GOUedkR3/2quC9nApWkw56VQZbRwIEMSHhQqQoQwVWmEWeG2T4s6VLOUx0Q9GcA+hMC66wdknmXMSYBjLdHHO6wanjSAD3LitnVwkilEbFgP8A60p3ehJRTyJiwrHca+zFKxW5HR7XepLZe4zd0CWlasa/LVy56BYms89XVWQChCsDkDVQR6ERbIRbUim/TGCCfhw9dYiG58t4kpoCR73jmywwfPLL0g6Dc7wA8By/zBiEA49N/wB4FS35een6w91aZ4Hb9DCRBSgGGOBz9YBj8ifKFTlT3nCOlOQpDhTv4096wAFWFWGA8dKn9oXUwCF5+MMTz/SEYY4eMAEF7E0x6Uggd/TCI1pUkDU5DHPXzgyesSMeo198oV2ux5e/eEMDt66w1fZzigETjkd689oEDHDH9OZiQP5c9IEsNh73MKgGlMK4GoIr4xIGziBQK4Aa4DAaU6QZNMABDEJmiImHd4qWgOFa4VLUN0E3RW7kWxhoDzP7QeIfEtIlBaCSt2pPzF7rHwoBHLQdWNS5LMSbxJJJPU5wDRTAaFChQgJyIjYxKwiF4AHtlvmtKWU0x2lLkl43RjX5cs960j17s3b5cyzymlIUlhAEV2DFbvdUHHH5T3jHjEzGPSOwU+tmQJTuMyviBTvFlw1JDA1prDEd0JgoCaUOhFT0iwGp+grnjt7zilLmYnAY0xJqPOLCMCcwTSuH6k+GESxli9h79mDp65U06xGhOfLrj9aQa4e/3xhDDR8cKYGhrhvlvlDqanAnWuOvSGvGu/hj1rt0h60zoKZnlzrAIVc7tNjpDldD+38/4hhTTEadOusOffP34wDEtfeXKHhstamGb319/SAQzD34ZQPL1+kO68/L6RGwwwMAEUse8YM+vTntASoKuOumJy8IkY/8Q1Rl45Z+MNDFuRNfSAYQOhNf8wDe/wDEImBQ1qa9BTGKEMCFP67wRbrAM9NfpFPiHEZUpb82YqKNWNPAak8hBQiS02tU+YqKmnewArlU6R5d2q7UzJ1ouSSESUxAaWTeYlbrd8H5cSPCM/th2kNtmXJZYWdTgDgXP4mG1ch4xnyJQUZRaQBNEZg3MRmBgKFAXoeACWRNvrXUYHrDOIjnEqfiDEGgmAb6N4/WvKJzQioyMSmVKDhJxlyiqyxr9kuMrZ5xRhVZpRa6q1SB4G94U5mMxxFngvEjZpqzlQOQGBU6qwoQCQaHnSGSezWaapGmGGJpQch4RdlPQAAVHM4COL4BxsTUR7gW9eDAGt1lJBU64jGtMjHUWacNKAAZcq4U6UgYI0kPL189PSJlPifIeEVUfIa4/wCInRq5nAViRkxPU1ggPPr9YjDZn9desGre6wAOqjSHA6wgYRPv3pAAy1pr45+kJ/XlBQDt18P1gAB2ivNbCkSTWwrprjlFRXqYBE6GH99fGI70MCPPxiRkoGsNWGgWeHQBExk8f45JsqX5rUrgqjF2OAN1dc8TEXFu01ms6hpk1RerdVe+zUwNAtcK4VyjxXj/ABJ7VaHnMSQSQgP3UB7igaYepMNIR6ZbPtIsqKCl52wwusKAnGtRSo2jzfjXGZ1scNMNFHyqCbqb0rmeZjPSzGNiw2GmJi0mxEdjst0VMTNFiZsIruYbAjaBRLxp5nYaw5iVpWPwxmaFyNBovWJeys6QhKclGPLIPjStj78YUXv6dPwDyhRy975G/wCGZO5VFRpWuGfzDUH3gQIr1uGmaNkT93cHnv5xZKjDAU067QLLhQjunSuR5HQwoSrZmjV6brXVHleonWJbDw2+Gd3EuShAdyLxvEVCS0++5GN3CgxJAzpBindPeU/KR79NI2O0ilHWzjBJChAN3IDTnP5meo6Io0jseK74KkzjJSYrWdPhy1qLpIZplfmac+F5zyoFyGGfoPBuMLMQOhBU+m4I06R5c6QrJaXkvfQkfiFcHGzD9dIAPcFtBNClANRlhyjSR6jb6xwPBePI5UK6klVN0kBgW0pqRTER1lnt2QJp+phUBtoecSKfZA8oz5U4H36xaSZ75wqGWFoN4LARAH3gleCgJWMV501UUsxCqoJZmIACjEkk5CMfjXaqy2YUmTVvZhE77noq5dTQR5P2u7YTLYxRbySNEri9PvTCMz+XIczjBQjp7Z9pUlpzIEYSQaK4xvkfeK5hdszTE003eGdo5E3uy5isaVoDjTmMxHh7LABiDVSQdwSCPEQwPopLUu484NrUAKmgGprSg1j59l8ZtKi6s+YBtfPvWIJttmsLrzXYbM7EY54EwUB7jxTtlZZCgtNVicllkOxwrWi5DmY8/wC03b6baQZckGVLOZqL7imIJGCDPAHxjhlEGDABPKlgRcSKUsmNKzLTEw0BfsNlGZi9MfaKCT4k+NF2TQnaK7mJHasXkkrJUPMFXP8AtpqeZ2WENb7IqiX8MBiKu3yLt+Y8oezy7upqcSdzrDKCzF3NWOelOS8onXxjNkney4PoNBpPdrqly/QKghoe97pCjkemZ9N6cwQRiNTtDXdMKjEYxatdfiOC143371MWN43qjmYg8PA4eUWZeUNKcqyMADdZWGWDKQykA8wM8DkYr2qc99ncl77MxY53mJZqjQ1OXlE7DkcMen7iGKZgDqDtnlqIuEq2Zh1OkU/mjs/uQFQRUZRGywRklcU8Vz8t/rBI4bkdv23jsePOEoOpKmUp9nriM9OUWLH2itUnBJrFRkr0cc/m5wTrFaZLgJOjsv2jWhaXkRqZ0vKTtqRGlL+1B7prZlLad83fEXaxwLSYC4YAO0n/AGlW1q3RKQad0sR4s1D5Rg2/tHap9fiWhypzUNcTpcSgpjGSFg6QgDRBEyoIgWJ0gAsJZwRlATLIINCYlAJikgMuZZ6RAyGNv+kJzgTYQM4fSKzFEsxOlmMaLSgMhAFTCoZEiARKjQNyCWACRTE0lWYhVBJOg1iSx8PZ1vsQksZu+APJBm7chGks9UF2UCgIxdv91/7RlLX1g2W7KhCU3UVbDSWkjFgHm6L91Obka8oosWZi7m8xzJw8ANBD3cNOVMfPfrD3d6dY4ZMl7Lg9rSaJY/mlu/sEg9mJVHvQwKj2YlReUcT04ofHYecKDpyhQFlK1MC7kZF3yxBqxx9YhOmfIb8oR13GhOXSGPTnWLMvCoE8jvmaUrAtTI+evLHaHZt9cxTGGY5jLLp5wyWxmwxNBjj+kRzEB+bP8S5+O/1gi22G+vpAE4/qcj1pDjJrgz5sUcipobEYnvD8Q/UaQLS6ioxEFfoa1x8v+p2hwy64HdcPNTgfSOqkmeZk0ko7x3XqVXSAKRovLqSoKuQSKocTQ0qFPzDmKiIHkitBgdjgfIxRlaa5Knw4cJEpksNIUAhlQRKlNoEGCUwwLKONolWfFUGDBgsCZpx3gGfnEZieTYZjCqoabnur/wBmoIdiIWERFYuiVLX55oJ/DLF9ul7BB5xItpA/25ap+eZ336haXVPgesD8xqLk6SsryeHOwvmiJ+NzdXwJxboKxZkpLT5F+I345guoP7Uzf/l5QJ7zX3Znf8T1PgBoIPx61wPQRzlkS4N+HQTnvPZeobuzG87MzD7xp3Rsi5KOkCDXUEc94QHWnPCnKH8OojjKTlyevhwQxKooYDXCsOvLLUQgOkGo3pEGhIdREqDekAoiVRCLQ9OkNBU5Q8BRitkfCE2Q6woUWY2McxAT8h0hQoZLH+74CBT5B1MKFAc5FPTxiy2fh+kKFDObIrRl4Rp27/aToIUKO0eDy9TyV7P79ICdnChQzMQGGMKFABIkTiHhQAbPBPmjO7XfOIUKKXAilYdYtDM+EKFE5ODdovqLC5GK+0KFGY91hGDPzQoUBRI+kJdYUKEykWEgl0hQoRaJoUKFAUf/2Q==\" style=max-height:124px;\"/></td>\n",
       "    </tr>\n",
       "    <tr>\n",
       "      <th>6</th>\n",
       "      <td>Kuzhakkattai</td>\n",
       "      <td>Sesame oil, raw rice, jaggery, grated coconut</td>\n",
       "      <td><img src=\"data:image/jpeg;base64,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\" style=max-height:124px;\"/></td>\n",
       "    </tr>\n",
       "    <tr>\n",
       "      <th>7</th>\n",
       "      <td>Masala Dosa</td>\n",
       "      <td>Chana dal, urad dal, potatoes, idli rice, thick poha</td>\n",
       "      <td><img src=\"data:image/jpeg;base64,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\" style=max-height:124px;\"/></td>\n",
       "    </tr>\n",
       "  </tbody>\n",
       "</table>"
      ],
      "text/plain": [
       "<IPython.core.display.HTML object>"
      ]
     },
     "execution_count": 174,
     "metadata": {},
     "output_type": "execute_result"
    }
   ],
   "source": [
    "dfgambar = df.loc[df[\"cluster\"]==int(y_new)]\n",
    "coldel =[\"cluster\",\"id\",\"diet\",\"prep_time\",\"cook_time\",\"flavor_profile\",\"course\",\"diabetic\",\"halal\",\"calories\",\"diet_label\",\"flavor_profile_label\",\"course_label\"]\t\n",
    "dfgambar.drop(coldel, inplace=True, axis=1)\n",
    "dfgambar=dfgambar.reset_index(drop=True)\n",
    "def path_to_image_html(path):\n",
    "    '''\n",
    "     This function essentially convert the image url to \n",
    "     '<img src=\"'+ path + '\"/>' format. And one can put any\n",
    "     formatting adjustments to control the height, aspect ratio, size etc.\n",
    "     within as in the below example. \n",
    "    '''\n",
    "    return '<img src=\"'+ path + '\" style=max-height:124px;\"/>'\n",
    "final_recommendation = HTML(dfgambar.to_html(escape=False ,formatters=dict(image=path_to_image_html)))\n",
    "final_recommendation"
   ]
  },
  {
   "cell_type": "code",
   "execution_count": 175,
   "metadata": {},
   "outputs": [
    {
     "name": "stdout",
     "output_type": "stream",
     "text": [
      "WARNING:tensorflow:From C:\\Users\\X550Z\\anaconda3\\envs\\tensorflow\\lib\\site-packages\\tensorflow\\python\\training\\tracking\\tracking.py:111: Model.state_updates (from tensorflow.python.keras.engine.training) is deprecated and will be removed in a future version.\n",
      "Instructions for updating:\n",
      "This property should not be used in TensorFlow 2.0, as updates are applied automatically.\n",
      "WARNING:tensorflow:From C:\\Users\\X550Z\\anaconda3\\envs\\tensorflow\\lib\\site-packages\\tensorflow\\python\\training\\tracking\\tracking.py:111: Layer.updates (from tensorflow.python.keras.engine.base_layer) is deprecated and will be removed in a future version.\n",
      "Instructions for updating:\n",
      "This property should not be used in TensorFlow 2.0, as updates are applied automatically.\n",
      "INFO:tensorflow:Assets written to: saved_model/1\\assets\n"
     ]
    }
   ],
   "source": [
    "export_dir = 'saved_model/1'\n",
    "tf.saved_model.save(modeltf,export_dir=export_dir)"
   ]
  },
  {
   "cell_type": "code",
   "execution_count": 176,
   "metadata": {},
   "outputs": [],
   "source": [
    "#@title Select mode of optimization\n",
    "mode = \"Default\" #@param [\"Default\", \"Storage\", \"Speed\"]\n",
    "\n",
    "if mode == 'Storage':\n",
    "    optimization = tf.lite.Optimize.OPTIMIZE_FOR_SIZE\n",
    "elif mode == 'Speed':\n",
    "    optimization = tf.lite.Optimize.OPTIMIZE_FOR_LATENCY\n",
    "else:\n",
    "    optimization = tf.lite.Optimize.DEFAULT"
   ]
  },
  {
   "cell_type": "code",
   "execution_count": 177,
   "metadata": {},
   "outputs": [],
   "source": [
    "converter = tf.lite.TFLiteConverter.from_saved_model(export_dir)\n",
    "\n",
    "converter.optimizations = [optimization]\n",
    "\n",
    "tflite_model = converter.convert();"
   ]
  },
  {
   "cell_type": "code",
   "execution_count": 178,
   "metadata": {},
   "outputs": [
    {
     "data": {
      "text/plain": [
       "12576"
      ]
     },
     "execution_count": 178,
     "metadata": {},
     "output_type": "execute_result"
    }
   ],
   "source": [
    "import pathlib\n",
    "tflite_model_file = pathlib.Path('./model.tflite')\n",
    "tflite_model_file.write_bytes(tflite_model)"
   ]
  }
 ],
 "metadata": {
  "colab": {
   "collapsed_sections": [
    "sq89v0KXDvsP",
    "gt5pCT-KDvsg",
    "xjvvbrXCDvsk",
    "vqQVlP6GDvsq",
    "UZYausqqDvsu",
    "aw8vWCgzDvsy",
    "GX3_zQizDvs4",
    "62sj-jqhDvs7"
   ],
   "name": "B21-CAP0025.ipynb",
   "provenance": []
  },
  "kernelspec": {
   "display_name": "Python 3",
   "language": "python",
   "name": "python3"
  },
  "language_info": {
   "codemirror_mode": {
    "name": "ipython",
    "version": 3
   },
   "file_extension": ".py",
   "mimetype": "text/x-python",
   "name": "python",
   "nbconvert_exporter": "python",
   "pygments_lexer": "ipython3",
   "version": "3.7.10"
  }
 },
 "nbformat": 4,
 "nbformat_minor": 1
}
